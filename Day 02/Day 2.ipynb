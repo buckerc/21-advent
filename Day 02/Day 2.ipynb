{
 "cells": [
  {
   "cell_type": "code",
   "execution_count": 1,
   "id": "7e5fa62e",
   "metadata": {},
   "outputs": [
    {
     "data": {
      "text/html": [
       "<style>.container { width:90% !important; }</style>"
      ],
      "text/plain": [
       "<IPython.core.display.HTML object>"
      ]
     },
     "metadata": {},
     "output_type": "display_data"
    }
   ],
   "source": [
    "from IPython.core.display import display, HTML\n",
    "display(HTML(\"<style>.container { width:90% !important; }</style>\"))"
   ]
  },
  {
   "cell_type": "code",
   "execution_count": 2,
   "id": "903c71c1",
   "metadata": {},
   "outputs": [
    {
     "name": "stdout",
     "output_type": "stream",
     "text": [
      "1524750\n"
     ]
    }
   ],
   "source": [
    "with open('./input.txt', 'r') as file:\n",
    "    horz_result = 0\n",
    "    vert_result = 0\n",
    "    for line in file:\n",
    "        amount = int(line.split(' ')[-1])\n",
    "        if 'forward' in line:     \n",
    "            horz_result += amount\n",
    "        if 'down' in line:\n",
    "            vert_result += amount\n",
    "        if 'up' in line:\n",
    "            vert_result -= amount\n",
    "    print(horz_result * vert_result)"
   ]
  },
  {
   "cell_type": "code",
   "execution_count": 4,
   "id": "bf3427e0",
   "metadata": {},
   "outputs": [
    {
     "name": "stdout",
     "output_type": "stream",
     "text": [
      "1592426537\n"
     ]
    }
   ],
   "source": [
    "with open('./input.txt', 'r') as file:\n",
    "    horz_result = 0\n",
    "    vert_result = 0\n",
    "    aim = 0    \n",
    "    for line in file:\n",
    "        amount = int(line.split(' ')[-1])\n",
    "        if 'forward' in line:     \n",
    "            horz_result += amount\n",
    "            vert_result += aim*amount\n",
    "        if 'down' in line:\n",
    "            aim += amount\n",
    "        if 'up' in line:\n",
    "            aim -= amount\n",
    "    print(horz_result * vert_result)"
   ]
  },
  {
   "cell_type": "code",
   "execution_count": null,
   "id": "a4e9f577",
   "metadata": {},
   "outputs": [],
   "source": []
  }
 ],
 "metadata": {
  "kernelspec": {
   "display_name": "Python 3 (ipykernel)",
   "language": "python",
   "name": "python3"
  },
  "language_info": {
   "codemirror_mode": {
    "name": "ipython",
    "version": 3
   },
   "file_extension": ".py",
   "mimetype": "text/x-python",
   "name": "python",
   "nbconvert_exporter": "python",
   "pygments_lexer": "ipython3",
   "version": "3.9.7"
  }
 },
 "nbformat": 4,
 "nbformat_minor": 5
}
