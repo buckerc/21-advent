{
 "cells": [
  {
   "cell_type": "code",
   "execution_count": 83,
   "id": "55fdbb50-524a-4d20-8e1e-e6c0c8221c5d",
   "metadata": {},
   "outputs": [],
   "source": [
    "testing = '''\n",
    "v...>>.vv>\n",
    ".vv>>.vv..\n",
    ">>.>v>...v\n",
    ">>v>>.>.v.\n",
    "v>v.vv.v..\n",
    ">.>>..v...\n",
    ".vv..>.>v.\n",
    "v.v..>>v.v\n",
    "....v..v.>'''"
   ]
  },
  {
   "cell_type": "code",
   "execution_count": 88,
   "id": "1ccaab88-dc41-4a95-9e54-d0722c8535ea",
   "metadata": {},
   "outputs": [],
   "source": [
    "testing = None"
   ]
  },
  {
   "cell_type": "code",
   "execution_count": null,
   "id": "11f652f5-d5fa-4bfc-b77e-98ba7d9f15f5",
   "metadata": {},
   "outputs": [],
   "source": []
  },
  {
   "cell_type": "code",
   "execution_count": 89,
   "id": "032d235e-e508-44ec-bd35-8677d40f8c4d",
   "metadata": {},
   "outputs": [
    {
     "data": {
      "text/plain": [
       "(137, 139)"
      ]
     },
     "execution_count": 89,
     "metadata": {},
     "output_type": "execute_result"
    }
   ],
   "source": [
    "import numpy as np\n",
    "import pandas as pd\n",
    "\n",
    "inputs = []\n",
    "if testing:\n",
    "    for line in testing[1:].split('\\n'):\n",
    "        toAdd = []\n",
    "        for l in line.strip():\n",
    "            toAdd.append(l)\n",
    "        inputs.append(toAdd)\n",
    "else:\n",
    "    data_file = './input.txt'\n",
    "    with open(data_file, 'r') as file:\n",
    "\n",
    "        for line in file:\n",
    "            toAdd = []\n",
    "            for l in line.strip():\n",
    "                toAdd.append(l)\n",
    "            inputs.append(toAdd)\n",
    "inputs = np.array(inputs)\n",
    "np.shape(inputs)"
   ]
  },
  {
   "cell_type": "code",
   "execution_count": null,
   "id": "67dcf5e8-2a44-453c-9bdc-7666f69a1ea9",
   "metadata": {},
   "outputs": [],
   "source": []
  },
  {
   "cell_type": "code",
   "execution_count": null,
   "id": "ecbf2c59-1e6f-4bc9-a200-b6962e6fcabd",
   "metadata": {},
   "outputs": [],
   "source": []
  },
  {
   "cell_type": "code",
   "execution_count": 90,
   "id": "9c93e90a-4b60-4002-943d-21a37f500972",
   "metadata": {},
   "outputs": [
    {
     "name": "stdout",
     "output_type": "stream",
     "text": [
      "334\n"
     ]
    }
   ],
   "source": [
    "def updateBoard(board,hozMove, vertMove):\n",
    "    vert, hoz = np.shape(inputs)\n",
    "    newBoard = board\n",
    "    for v,h in hozMove:\n",
    "        if board[v,h] == \">\":\n",
    "            newBoard[v,(h+1)%hoz] = \">\"\n",
    "            newBoard[v,h] = \".\"\n",
    "        else:\n",
    "            raise ValueError(\"Got the hoz wrong!\")\n",
    "    for v,h in vertMove:\n",
    "        if board[v,h] == \"v\":\n",
    "            newBoard[(v+1)%vert,h] = \"v\"\n",
    "            newBoard[v,h] = \".\"\n",
    "        else:\n",
    "            raise ValueError(\"Got the vert wrong!\")\n",
    "    return newBoard\n",
    "\n",
    "vert, hoz = np.shape(inputs)\n",
    "\n",
    "board = inputs.copy()\n",
    "for idx in range(5000):\n",
    "    hozMove = []\n",
    "    vertMove = []\n",
    "    for v in range(vert):\n",
    "        for h in range(hoz):\n",
    "            if board[v,h] == \">\" and board[v,(h+1)%hoz] == \".\":\n",
    "                hozMove.append((v,h))\n",
    "            if board[v,h] == \"v\" and (\n",
    "                (board[(v+1)%vert,h] == \".\" and board[(v+1)%vert,(h-1)%hoz] != \">\") or \n",
    "                (board[(v+1)%vert,h] == \">\" and board[(v+1)%vert,(h+1)%hoz] == \".\")):\n",
    "                vertMove.append((v,h))\n",
    "\n",
    "    if (hozMove or vertMove):\n",
    "        board = updateBoard(board,hozMove, vertMove)\n",
    "    else:\n",
    "        print(idx+1)\n",
    "        break\n"
   ]
  },
  {
   "cell_type": "code",
   "execution_count": null,
   "id": "f7c81c4e-9364-4e82-b36d-85d5fca38754",
   "metadata": {},
   "outputs": [],
   "source": []
  },
  {
   "cell_type": "code",
   "execution_count": null,
   "id": "e71acee1-6023-4af3-91f9-4f67ffe86a5f",
   "metadata": {},
   "outputs": [],
   "source": []
  },
  {
   "cell_type": "code",
   "execution_count": null,
   "id": "04d8351f-8132-433b-9254-96bee982e55c",
   "metadata": {},
   "outputs": [],
   "source": []
  },
  {
   "cell_type": "code",
   "execution_count": null,
   "id": "b472d2ff-47f1-48b5-86f6-0c38e1ca35c7",
   "metadata": {},
   "outputs": [],
   "source": []
  },
  {
   "cell_type": "code",
   "execution_count": null,
   "id": "28c18ae4-d793-4ca8-8df0-ab0de67026e4",
   "metadata": {},
   "outputs": [],
   "source": []
  }
 ],
 "metadata": {
  "kernelspec": {
   "display_name": "geo_env",
   "language": "python",
   "name": "geo_env"
  },
  "language_info": {
   "codemirror_mode": {
    "name": "ipython",
    "version": 3
   },
   "file_extension": ".py",
   "mimetype": "text/x-python",
   "name": "python",
   "nbconvert_exporter": "python",
   "pygments_lexer": "ipython3",
   "version": "3.10.2"
  }
 },
 "nbformat": 4,
 "nbformat_minor": 5
}
