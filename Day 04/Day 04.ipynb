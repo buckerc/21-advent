{
 "cells": [
  {
   "cell_type": "code",
   "execution_count": 1,
   "id": "287d7b15",
   "metadata": {},
   "outputs": [
    {
     "data": {
      "text/plain": [
       "23177"
      ]
     },
     "execution_count": 1,
     "metadata": {},
     "output_type": "execute_result"
    }
   ],
   "source": [
    "import numpy as np\n",
    "inputs = []\n",
    "\n",
    "bingo_numbers = []\n",
    "with open('./input.txt','r') as file:\n",
    "    temp = []\n",
    "    for line in file:\n",
    "        if len(bingo_numbers) == 0:\n",
    "            bingo_numbers.append([int(i) for i in line.split(',')])\n",
    "        else:\n",
    "            line = line.split()\n",
    "            if len(line) > 0:\n",
    "                temp.append([int(i) for i in line])\n",
    "            else:\n",
    "                inputs.append(temp)\n",
    "                temp = []\n",
    "_ = inputs.pop(0)\n",
    "inputs = np.array(inputs)\n",
    "bingo_numbers = np.array(bingo_numbers)[0]\n",
    "\n",
    "temp_inputs = inputs\n",
    "final_number = 0\n",
    "for bg in bingo_numbers:\n",
    "    temp_inputs = np.where(temp_inputs==bg,-1,temp_inputs)\n",
    "    for idx,ti in enumerate(temp_inputs):\n",
    "        if np.any(np.all(ti==-1,1)) or np.any(np.all(ti==-1,0)):\n",
    "            final_number = bg\n",
    "            unmarked = ti[(ti!=-1)]\n",
    "            break\n",
    "    if final_number != 0:\n",
    "        break\n",
    "final_number *np.sum(unmarked)"
   ]
  },
  {
   "cell_type": "code",
   "execution_count": 2,
   "id": "88a1102b",
   "metadata": {},
   "outputs": [
    {
     "name": "stdout",
     "output_type": "stream",
     "text": [
      "6804\n"
     ]
    }
   ],
   "source": [
    "import numpy as np\n",
    "inputs = []\n",
    "\n",
    "bingo_numbers = []\n",
    "with open('./input.txt','r') as file:\n",
    "    temp = []\n",
    "    for line in file:\n",
    "        if len(bingo_numbers) == 0:\n",
    "            bingo_numbers.append([int(i) for i in line.split(',')])\n",
    "        else:\n",
    "            line = line.split()\n",
    "            if len(line) > 0:\n",
    "                temp.append([int(i) for i in line])\n",
    "            else:\n",
    "                inputs.append(temp)\n",
    "                temp = []\n",
    "_ = inputs.pop(0)\n",
    "\n",
    "inputs = np.array(inputs)\n",
    "bingo_numbers = np.array(bingo_numbers)[0]\n",
    "\n",
    "temp_inputs = inputs\n",
    "for bg in bingo_numbers:\n",
    "    temp_inputs = np.where(temp_inputs==bg,-1,temp_inputs)\n",
    "    to_pop = []\n",
    "    should_stop = False\n",
    "    for idx,ti in enumerate(temp_inputs):\n",
    "        if np.any(np.all(ti==-1,1)) or np.any(np.all(ti==-1,0)):\n",
    "            if len(temp_inputs) == 1:\n",
    "                final_number = bg    \n",
    "                unmarked = ti[(ti!=-1)]\n",
    "                should_stop = True\n",
    "                break\n",
    "            else:\n",
    "                to_pop.append(idx)   \n",
    "    if should_stop:\n",
    "        break\n",
    "    if len(to_pop) != 0 and len(temp_inputs) != 1:\n",
    "        temp_inputs = list(temp_inputs)\n",
    "        for tp in to_pop[::-1]:\n",
    "            _ = temp_inputs.pop(tp)\n",
    "        temp_inputs = np.array(temp_inputs)\n",
    "print(final_number *np.sum(unmarked))"
   ]
  },
  {
   "cell_type": "code",
   "execution_count": null,
   "id": "28c40f04",
   "metadata": {},
   "outputs": [],
   "source": []
  },
  {
   "cell_type": "code",
   "execution_count": null,
   "id": "1cd153ff",
   "metadata": {},
   "outputs": [],
   "source": []
  },
  {
   "cell_type": "code",
   "execution_count": null,
   "id": "b0ad9ed0",
   "metadata": {},
   "outputs": [],
   "source": []
  }
 ],
 "metadata": {
  "kernelspec": {
   "display_name": "Python 3 (ipykernel)",
   "language": "python",
   "name": "python3"
  },
  "language_info": {
   "codemirror_mode": {
    "name": "ipython",
    "version": 3
   },
   "file_extension": ".py",
   "mimetype": "text/x-python",
   "name": "python",
   "nbconvert_exporter": "python",
   "pygments_lexer": "ipython3",
   "version": "3.9.7"
  }
 },
 "nbformat": 4,
 "nbformat_minor": 5
}
