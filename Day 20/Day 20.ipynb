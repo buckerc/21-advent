{
 "cells": [
  {
   "cell_type": "code",
   "execution_count": 1,
   "id": "a00e4464-130a-4a3a-a161-60ff54f37f3f",
   "metadata": {},
   "outputs": [],
   "source": [
    "import numpy as np\n",
    "code = []\n",
    "image = []\n",
    "next_bit = False\n",
    "with open('./input.txt', 'r') as file:\n",
    "    for line in file:\n",
    "        if line.strip() == '':\n",
    "            next_bit = True\n",
    "        if next_bit:\n",
    "            image.append([i for i in line.strip()])\n",
    "        else:\n",
    "            code = [i for i in line.strip()]\n",
    "            \n",
    "_ = image.pop(0)\n",
    "image = np.array(image)\n",
    "code = np.array(code)\n",
    "image = np.where(image=='#',1,0)\n",
    "code = np.where(code=='#',1,0)\n",
    "\n",
    "image.shape\n",
    "extra_bit = 200\n",
    "big_image = np.zeros([i +extra_bit for i in image.shape])\n",
    "for i in range(extra_bit//2,image.shape[0] + extra_bit//2):\n",
    "    for j in range(extra_bit//2,image.shape[0] + extra_bit//2):\n",
    "        big_image[i,j] = image[i-extra_bit//2,j-extra_bit//2]\n"
   ]
  },
  {
   "cell_type": "code",
   "execution_count": 2,
   "id": "4d58c6d0-d5dd-4f7c-aea7-0edb353ce599",
   "metadata": {},
   "outputs": [
    {
     "data": {
      "text/plain": [
       "5306"
      ]
     },
     "execution_count": 2,
     "metadata": {},
     "output_type": "execute_result"
    }
   ],
   "source": [
    "def get_code(image,x,y):\n",
    "    dec = []\n",
    "    for i in range(x-1,x+2):\n",
    "        for j in range(y-1, y+2):\n",
    "            dec.append(image[i,j])\n",
    "    res = 0\n",
    "    for idx, d in enumerate(dec[::-1]):\n",
    "        res += d * 2** idx\n",
    "    return int(res)\n",
    "\n",
    "bi = big_image\n",
    "for _ in range(2):\n",
    "    new_image = np.zeros(bi.shape)\n",
    "    for i in range(1,new_image.shape[0]-1):\n",
    "        for j in range(1,new_image.shape[0]-1):\n",
    "            code_idx = get_code(bi,i,j)\n",
    "            new_image[i,j] = code[code_idx]\n",
    "    new_image[0,:] = new_image[1,1]\n",
    "    new_image[-1,:] = new_image[1,1]    \n",
    "    new_image[:,0] = new_image[1,1]\n",
    "    new_image[:,-1] = new_image[1,1]    \n",
    "    bi = new_image\n",
    "int(np.sum(bi))"
   ]
  },
  {
   "cell_type": "code",
   "execution_count": 3,
   "id": "7a547a27-d6fa-4c5e-a320-e4e633f5e301",
   "metadata": {},
   "outputs": [
    {
     "data": {
      "text/plain": [
       "17497"
      ]
     },
     "execution_count": 3,
     "metadata": {},
     "output_type": "execute_result"
    }
   ],
   "source": [
    "bi = big_image\n",
    "for idx in range(50):\n",
    "    new_image = np.zeros(bi.shape)\n",
    "    for i in range(1,new_image.shape[0]-1):\n",
    "        for j in range(1,new_image.shape[0]-1):\n",
    "            code_idx = get_code(bi,i,j)\n",
    "            new_image[i,j] = code[code_idx]\n",
    "    new_image[0,:] = new_image[1,1]\n",
    "    new_image[-1,:] = new_image[1,1]    \n",
    "    new_image[:,0] = new_image[1,1]\n",
    "    new_image[:,-1] = new_image[1,1]    \n",
    "    bi = new_image\n",
    "int(np.sum(bi))"
   ]
  },
  {
   "cell_type": "code",
   "execution_count": null,
   "id": "fb26ab72-4958-4b87-bec8-c4727308b009",
   "metadata": {},
   "outputs": [],
   "source": []
  }
 ],
 "metadata": {
  "kernelspec": {
   "display_name": "Python 3 (ipykernel)",
   "language": "python",
   "name": "python3"
  },
  "language_info": {
   "codemirror_mode": {
    "name": "ipython",
    "version": 3
   },
   "file_extension": ".py",
   "mimetype": "text/x-python",
   "name": "python",
   "nbconvert_exporter": "python",
   "pygments_lexer": "ipython3",
   "version": "3.10.1"
  }
 },
 "nbformat": 4,
 "nbformat_minor": 5
}
