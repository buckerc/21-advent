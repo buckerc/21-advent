{
 "cells": [
  {
   "cell_type": "code",
   "execution_count": 2,
   "id": "71305765-47ff-47bf-a7a6-86861d71e112",
   "metadata": {},
   "outputs": [
    {
     "data": {
      "text/plain": [
       "(98841, 97790, 99480)"
      ]
     },
     "execution_count": 2,
     "metadata": {},
     "output_type": "execute_result"
    }
   ],
   "source": [
    "import numpy as np\n",
    "import pandas as pd\n",
    "def split_int(inputs):\n",
    "    inputs = inputs.split('=')[1]\n",
    "    inputs = [int(i) for i in inputs.split('..')]    \n",
    "    inputs.sort()\n",
    "    return inputs\n",
    "\n",
    "def do_m(inputs,mi):\n",
    "    if mi[0] > min(inputs):\n",
    "        mi[0] = min(inputs)\n",
    "    if mi[1] < max(inputs):\n",
    "        mi[1] = max(inputs)\n",
    "    return mi\n",
    "\n",
    "inputs = []\n",
    "mx = [9,-9]\n",
    "my = [9,-9]\n",
    "mz = [9,-9]\n",
    "with open(\"./input.txt\",\"r\") as file:\n",
    "    for line in file:\n",
    "        on_off = line.strip().split(' ')\n",
    "        if on_off[0] == 'on':\n",
    "            command = 1\n",
    "        else:\n",
    "            command = -1\n",
    "        x,y,z = on_off[-1].split(',')\n",
    "        x = split_int(x)\n",
    "        y = split_int(y)\n",
    "        z = split_int(z)\n",
    "        inputs.append({\n",
    "            'c' : command,\n",
    "            'xMin' : x[0],\n",
    "            'xMax' : x[1],\n",
    "            'yMin' : y[0],\n",
    "            'yMax' : y[1],\n",
    "            'zMin' : z[0],\n",
    "            'zMax' : z[1],      \n",
    "        })\n",
    "        mx = do_m(x,mx)\n",
    "        my = do_m(y,my)\n",
    "        mz = do_m(z,mz)        \n",
    "        \n",
    "mx,my,mz = np.max(np.abs(mx)),np.max(np.abs(my)),np.max(np.abs(mz))\n",
    "mx,my,mz"
   ]
  },
  {
   "cell_type": "code",
   "execution_count": 3,
   "id": "03fca48f-e93f-455d-b552-6ef49edb75b2",
   "metadata": {},
   "outputs": [
    {
     "data": {
      "text/plain": [
       "590467"
      ]
     },
     "execution_count": 3,
     "metadata": {},
     "output_type": "execute_result"
    }
   ],
   "source": [
    "cube = {}\n",
    "\n",
    "for idx, i in enumerate(inputs):\n",
    "    x = np.array([i['xMin'], i['xMax']])\n",
    "    y = np.array([i['yMin'], i['yMax']])\n",
    "    z = np.array([i['zMin'], i['zMax']])\n",
    "    c = i['c']\n",
    "\n",
    "    if x[1] < -50 or x[0] > 50 or y[1] < -50 or y[0] > 50 or z[1] < -50 or z[0] > 50:\n",
    "        continue\n",
    "        \n",
    "    x = np.where(x < -50, -50, x)\n",
    "    x = np.where(x > 50, 50, x)\n",
    "    y = np.where(y < -50, -50, y)\n",
    "    y = np.where(y > 50, 50, y)    \n",
    "    z = np.where(y < -50, -50, z)\n",
    "    z = np.where(y > 50, 50, z)        \n",
    "    \n",
    "    for xs in range(x[0], x[1]+1):\n",
    "        for ys in range(y[0], y[1]+1):\n",
    "            for zs in range(z[0], z[1]+1):            \n",
    "                test_str = f\"{xs},{ys},{zs}\"\n",
    "                if c == 1:\n",
    "                    if test_str not in cube.keys():\n",
    "                        cube[test_str] = 1\n",
    "                else:\n",
    "                    if test_str in cube.keys():\n",
    "                        del cube[test_str]\n",
    "len(cube)"
   ]
  },
  {
   "cell_type": "code",
   "execution_count": 103,
   "id": "2aeafddb-a896-4793-a1de-e8d4b0a536fe",
   "metadata": {},
   "outputs": [],
   "source": [
    "inputsDF = pd.DataFrame(inputs.copy())"
   ]
  },
  {
   "cell_type": "code",
   "execution_count": null,
   "id": "60412b4c-df82-42be-a7fd-f09692f56e90",
   "metadata": {},
   "outputs": [],
   "source": []
  },
  {
   "cell_type": "code",
   "execution_count": 108,
   "id": "cacff2b3-4da4-4e53-b7b1-4b979a16c1e4",
   "metadata": {},
   "outputs": [
    {
     "data": {
      "text/plain": [
       "c        1\n",
       "xMin   -22\n",
       "xMax    31\n",
       "yMin   -48\n",
       "yMax     6\n",
       "zMin   -35\n",
       "zMax     9\n",
       "Name: 1, dtype: int64"
      ]
     },
     "execution_count": 108,
     "metadata": {},
     "output_type": "execute_result"
    }
   ],
   "source": [
    "b"
   ]
  },
  {
   "cell_type": "code",
   "execution_count": 107,
   "id": "4fc16b72-bcf2-4cf0-8e40-384f56641365",
   "metadata": {},
   "outputs": [
    {
     "data": {
      "text/plain": [
       "c        1\n",
       "xMin   -40\n",
       "xMax     6\n",
       "yMin   -36\n",
       "yMax     9\n",
       "zMin   -36\n",
       "zMax    12\n",
       "Name: 0, dtype: int64"
      ]
     },
     "execution_count": 107,
     "metadata": {},
     "output_type": "execute_result"
    }
   ],
   "source": [
    "a"
   ]
  },
  {
   "cell_type": "code",
   "execution_count": null,
   "id": "86bb643b-d3a1-4a74-9e7f-5db219f5db43",
   "metadata": {},
   "outputs": [],
   "source": []
  },
  {
   "cell_type": "code",
   "execution_count": null,
   "id": "b4f28bf3-f27e-4170-99fc-ec4b78eeb21e",
   "metadata": {},
   "outputs": [],
   "source": []
  },
  {
   "cell_type": "code",
   "execution_count": 110,
   "id": "075e9029-4fb4-4fe0-8e78-102307819f56",
   "metadata": {},
   "outputs": [],
   "source": [
    "a = inputsDF.iloc[0].copy()\n",
    "b = inputsDF.iloc[1].copy()\n",
    "c= None\n",
    "# case 1 a != b - this gives 2 separate cubes\n",
    "case1 = a['xMin']>b['xMax'] or a['yMin']>b['yMax'] or a['zMin']>b['zMax']\n",
    "\n",
    "# case 2 a is inside b - this gives b\n",
    "# written as \"MIN <= X <= MAX\"\n",
    "case2x = (b['xMin']<=[a['xMin'],a['xMax']]).all() and ([a['xMin'],a['xMax']]<=b['xMax']).all()\n",
    "case2y = (b['yMin']<=[a['yMin'],a['yMax']]).all() and ([a['yMin'],a['yMax']]<=b['yMax']).all()\n",
    "case2z = (b['zMin']<=[a['zMin'],a['zMax']]).all() and ([a['zMin'],a['zMax']]<=b['zMax']).all()\n",
    "case2 = case2x and case2y and case2z\n",
    "\n",
    "# case 3 b is inside a - this gives a\n",
    "case3x = (a['xMin']<=[b['xMin'],b['xMax']]).all() and ([b['xMin'],b['xMax']]<=a['xMax']).all()\n",
    "case3y = (a['yMin']<=[b['yMin'],b['yMax']]).all() and ([b['yMin'],b['yMax']]<=a['yMax']).all()\n",
    "case3z = (a['zMin']<=[b['zMin'],b['zMax']]).all() and ([b['zMin'],b['zMax']]<=a['zMax']).all()\n",
    "case3 = case3x and case3y and case3z\n",
    "\n",
    "# case 4 a min is outside but a max is inside b\n",
    "\n",
    "# case 5 a min is inside but a max is outside b\n",
    "\n",
    "# case 6 b min is outside but b max is inside a\n",
    "\n",
    "# case 7 b min is inside but b max is outside a\n",
    "\n",
    "if case1:\n",
    "    print('yo')\n",
    "    c=pd.DataFrame([a,b])\n",
    "elif case2:\n",
    "    print('yoyo')    \n",
    "    # because B comes after A, and all of A is \n",
    "    # inside B, it does not matter whatever state \n",
    "    # A was in, it will become B\n",
    "    c=pd.DataFrame(b)     \n",
    "elif case3:\n",
    "    print('yoyo')    \n",
    "    \n",
    "    # because B comes after A, but B is inside A there \n",
    "    # is a chance for 2 states to be returned\n",
    "    \n",
    "    c=pd.DataFrame(a)\n",
    "\n",
    "    c.iloc['c']=\n",
    "\n",
    "# case 2 a is part in, part out of b - this gives\n",
    "#if ((a['xMax']>=[b['xMin'],b['xMax']]).sum()==1) or ((a['yMax']>=[b['yMin'],b['yMax']]).sum()==1) or ((a['zMax']>=[b['zMin'],b['zMax']]).sum()==1):\n",
    "#    print('bugger')\n",
    "    \n",
    "c"
   ]
  },
  {
   "cell_type": "code",
   "execution_count": 43,
   "id": "9247b9b6-88da-4a05-8b29-a838b2194e00",
   "metadata": {},
   "outputs": [
    {
     "data": {
      "text/plain": [
       "True"
      ]
     },
     "execution_count": 43,
     "metadata": {},
     "output_type": "execute_result"
    }
   ],
   "source": [
    "(a['xMax']>=[b['xMin'], b['xMax']]).sum()==1"
   ]
  },
  {
   "cell_type": "code",
   "execution_count": null,
   "id": "9dafc177-affc-4af4-b045-8ab3d2ce1291",
   "metadata": {},
   "outputs": [
    {
     "name": "stdout",
     "output_type": "stream",
     "text": [
      "0-0-105,938\n",
      "1-105,938-133,650\n",
      "2-183,473-117,045\n",
      "3-286,034-140,400\n",
      "4-338,946-151,580\n",
      "5-382,768-109,980\n",
      "6-418,870-111,780\n",
      "7-444,583-137,376\n",
      "8-453,526-119,070\n",
      "9-480,346-135,044\n",
      "10-482,726-4,199\n",
      "11-486,223-105,750\n",
      "12-497,008-3,456\n",
      "13-498,448-121,440\n",
      "14-526,538-1,650\n",
      "15-526,538-121,992\n",
      "16-551,161-3,456\n",
      "17-551,161-143,055\n",
      "18-573,563-4,845\n",
      "19-573,563-119,808\n"
     ]
    }
   ],
   "source": [
    "import pandas as pd\n",
    "cube = {}\n",
    "df = pd.DataFrame(columns = ['x','y','z','c'])\n",
    "for idx, row in enumerate(inputsDF.iloc()):\n",
    "\n",
    "\n",
    "    xMin, xMax = row[['xMin','xMax']]\n",
    "    yMin, yMax = row[['yMin','yMax']]\n",
    "    zMin, zMax = row[['zMin','zMax']]\n",
    "    c = row['c']\n",
    "    X = np.arange(xMin,xMax+1)\n",
    "    Y = np.arange(yMin,yMax+1)\n",
    "    Z = np.arange(zMin,zMax+1)    \n",
    "    data = [[x,y,z] for x in X for y in Y for z in Z]\n",
    "    tempDF = pd.DataFrame(columns=['x','y','z'], data=data)\n",
    "    print(f\"{idx}-{len(df):,}-{len(tempDF):,}\")\n",
    "    tempDF['c']=c\n",
    "\n",
    "    toMerge = pd.merge(df, tempDF, on=['x','y','z'], how='outer',indicator=True)\n",
    "    toMerge['c']=0\n",
    "    toMerge.loc[(toMerge['_merge']=='left_only'),'c']=toMerge[(toMerge['_merge']=='left_only')]['c_x']\n",
    "    toMerge.loc[(toMerge['_merge']=='right_only'),'c']=toMerge[(toMerge['_merge']=='right_only')]['c_y']\n",
    "    toMerge.loc[(toMerge['_merge']=='both'),'c']=toMerge[(toMerge['_merge']=='both')]['c_y']\n",
    "    toMerge.drop('_merge',axis=1,inplace=True)\n",
    "    toMerge.drop('c_x',axis=1,inplace=True)\n",
    "    toMerge.drop('c_y',axis=1,inplace=True)\n",
    "    toMerge.drop_duplicates(inplace=True)\n",
    "    #len(toMerge)\n",
    "    df = toMerge    \n",
    "    \n",
    "len(df[(df['c']==1)])"
   ]
  },
  {
   "cell_type": "code",
   "execution_count": null,
   "id": "aba9086f-2b12-4116-8cfe-30bc3e90dd02",
   "metadata": {},
   "outputs": [],
   "source": [
    "1"
   ]
  },
  {
   "cell_type": "code",
   "execution_count": null,
   "id": "d371c334-d47e-4056-962d-584fb54eb1f4",
   "metadata": {},
   "outputs": [],
   "source": []
  },
  {
   "cell_type": "code",
   "execution_count": null,
   "id": "4578b2f6-6d00-4a2e-8f42-b8e0bf2c7884",
   "metadata": {},
   "outputs": [],
   "source": [
    "import pandas as pd\n",
    "import itertools\n",
    "cube = {}\n",
    "df = pd.DataFrame(columns =['x','y','z'])\n",
    "\n",
    "\n",
    "for idx, i in enumerate(inputs):\n",
    "    print(idx+1, len(df))\n",
    "    x = np.array(i['x'])\n",
    "    y = np.array(i['y'])\n",
    "    z = np.array(i['z'])\n",
    "    c = i['c']      \n",
    "\n",
    "    if c == 0:\n",
    "        d2 = df[((df['x'] < x[0]) | (df['x'] > x[1]) |\n",
    "            (df['y'] < y[0]) | (df['y'] > y[1]) | \n",
    "            (df['z'] < z[0]) | (df['z'] > z[1]))]\n",
    "    else:\n",
    "        xs = np.arange(x[0], x[1]+1)\n",
    "        ys = np.arange(y[0], y[1]+1)\n",
    "        zs = np.arange(z[0], z[1]+1)        \n",
    "        df_new = pd.DataFrame(list(itertools.product(xs,ys,zs)),columns=['x','y','z'])\n",
    "        df = pd.concat([df,df_new])\n",
    "        #df = df.drop_duplicates()\n",
    "    "
   ]
  },
  {
   "cell_type": "code",
   "execution_count": null,
   "id": "849afece-133e-4ae0-99f1-b97c7a246452",
   "metadata": {},
   "outputs": [],
   "source": []
  },
  {
   "cell_type": "code",
   "execution_count": null,
   "id": "757e5016-5059-4696-b6e3-3eb5dcce9496",
   "metadata": {},
   "outputs": [],
   "source": [
    "df[((df['x'] >= x[0]) & (df['x'] <= x[1]))]"
   ]
  },
  {
   "cell_type": "code",
   "execution_count": null,
   "id": "fa942361-1aff-47c6-80c5-e14544e9b5db",
   "metadata": {},
   "outputs": [],
   "source": [
    "import pandas as pd\n",
    "import itertools\n",
    "\n",
    "xs = np.arange(x[0], x[1]+1)\n",
    "ys = np.arange(y[0], y[1]+1)\n",
    "zs = np.arange(z[0], z[1]+1)\n",
    "df = pd.DataFrame(list(itertools.product(xs,ys,zs)),columns=['x','y','z'])\n",
    "df[((df['x']==-20) & (df['y']==4) & (df['z']==-30))]"
   ]
  },
  {
   "cell_type": "code",
   "execution_count": null,
   "id": "a99434b5-7537-4734-b4bf-16e1c4c9f2a9",
   "metadata": {},
   "outputs": [],
   "source": []
  },
  {
   "cell_type": "code",
   "execution_count": null,
   "id": "6076cb9f-1609-473a-aaa1-45c5ad73440e",
   "metadata": {},
   "outputs": [],
   "source": []
  }
 ],
 "metadata": {
  "kernelspec": {
   "display_name": "Python 3 (ipykernel)",
   "language": "python",
   "name": "python3"
  },
  "language_info": {
   "codemirror_mode": {
    "name": "ipython",
    "version": 3
   },
   "file_extension": ".py",
   "mimetype": "text/x-python",
   "name": "python",
   "nbconvert_exporter": "python",
   "pygments_lexer": "ipython3",
   "version": "3.10.2"
  }
 },
 "nbformat": 4,
 "nbformat_minor": 5
}
