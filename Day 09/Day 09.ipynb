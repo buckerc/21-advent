{
 "cells": [
  {
   "cell_type": "code",
   "execution_count": 204,
   "id": "336e9411",
   "metadata": {},
   "outputs": [
    {
     "data": {
      "text/plain": [
       "504"
      ]
     },
     "execution_count": 204,
     "metadata": {},
     "output_type": "execute_result"
    }
   ],
   "source": [
    "import numpy as np\n",
    "inputs = []\n",
    "\n",
    "with open('input.txt', 'r') as file:\n",
    "    for line in file:\n",
    "        ins = [int(i) for i in line.strip()]  \n",
    "        inputs.append(ins)\n",
    "        \n",
    "'''file = 2199943210\n",
    "3987894921\n",
    "9856789892\n",
    "8767896789\n",
    "9899965678\n",
    "inputs = []\n",
    "for line in file.split('\\n'):\n",
    "    ins = [int(i) for i in line]  \n",
    "    inputs.append(ins)\n",
    "\n",
    "'''\n",
    "\n",
    "inputs = np.array(inputs)\n",
    "inputs.shape\n",
    "success=[]\n",
    "for x in range(inputs.shape[0]):\n",
    "    for y in range(inputs.shape[1]):\n",
    "        current = inputs[x,y]\n",
    "        fail=False\n",
    "        for xx in [x, x-1, x+1, x]:\n",
    "            for yy in [y-1, y, y, y+1]:\n",
    "                if xx>-1 and yy > -1 and xx < inputs.shape[0] and yy < inputs.shape[1]:\n",
    "                    if inputs[xx,yy] < current:\n",
    "                        fail=True\n",
    "                        break\n",
    "            if fail:\n",
    "                break\n",
    "        if fail == False:\n",
    "            success.append((x,y))\n",
    "risk = 0            \n",
    "for s in success:\n",
    "    risk = risk + inputs[s]+1\n",
    "risk"
   ]
  },
  {
   "cell_type": "code",
   "execution_count": null,
   "id": "b1469668",
   "metadata": {},
   "outputs": [],
   "source": []
  },
  {
   "cell_type": "code",
   "execution_count": 207,
   "id": "fe004c73",
   "metadata": {},
   "outputs": [],
   "source": [
    "\n",
    "def go_deep(options,have_been):\n",
    "\n",
    "    for o in options:\n",
    "        x,y = o\n",
    "        current = inputs[x,y]\n",
    "\n",
    "        new_options = []\n",
    "        for xx,yy in  zip([x  , x-1, x+1, x  ],[y-1, y  , y  , y+1]):\n",
    "            if xx>-1 and yy > -1 and xx<inputs.shape[0] and yy < inputs.shape[1]:\n",
    "                if (inputs[xx,yy] > current) and (inputs[xx,yy] != 9):\n",
    "                    new_options.append((xx,yy))\n",
    "        if (x,y) not in have_been:\n",
    "            have_been.append((x,y))\n",
    "        have_been = go_deep(new_options, have_been)\n",
    "    return have_been\n",
    "\n",
    "others = [0,0,0]\n",
    "for idx, s in enumerate(success):\n",
    "    #print(f\"{idx+1} of {len(success)}\")\n",
    "    hb = go_deep(options = [s,],have_been = [])\n",
    "\n",
    "    if len(hb) > others[0]:\n",
    "        _ = others.pop(0)\n",
    "        others.append(len(hb))\n",
    "        others.sort()\n",
    "np.product(others)"
   ]
  },
  {
   "cell_type": "code",
   "execution_count": null,
   "id": "bbe080d0",
   "metadata": {
    "scrolled": true
   },
   "outputs": [],
   "source": []
  },
  {
   "cell_type": "code",
   "execution_count": null,
   "id": "534277cc",
   "metadata": {},
   "outputs": [],
   "source": []
  },
  {
   "cell_type": "code",
   "execution_count": null,
   "id": "d65cb274",
   "metadata": {},
   "outputs": [],
   "source": []
  },
  {
   "cell_type": "code",
   "execution_count": null,
   "id": "4fb45d69",
   "metadata": {},
   "outputs": [],
   "source": []
  }
 ],
 "metadata": {
  "kernelspec": {
   "display_name": "Python 3 (ipykernel)",
   "language": "python",
   "name": "python3"
  },
  "language_info": {
   "codemirror_mode": {
    "name": "ipython",
    "version": 3
   },
   "file_extension": ".py",
   "mimetype": "text/x-python",
   "name": "python",
   "nbconvert_exporter": "python",
   "pygments_lexer": "ipython3",
   "version": "3.9.7"
  }
 },
 "nbformat": 4,
 "nbformat_minor": 5
}
