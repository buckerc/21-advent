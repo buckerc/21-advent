{
 "cells": [
  {
   "cell_type": "code",
   "execution_count": 1,
   "id": "ac9b67e0",
   "metadata": {},
   "outputs": [
    {
     "data": {
      "text/plain": [
       "358214"
      ]
     },
     "execution_count": 1,
     "metadata": {},
     "output_type": "execute_result"
    }
   ],
   "source": [
    "import numpy as np\n",
    "inputs = []\n",
    "with open('./input.txt','r') as file:\n",
    "    inputs = file.readline().split(',')\n",
    "\n",
    "inputs = [int(i) for i in inputs]\n",
    "inputs = np.array(inputs)\n",
    "\n",
    "data = {}\n",
    "total = 0\n",
    "\n",
    "for days in range(9):\n",
    "    data[days] = len(np.argwhere(inputs==days))\n",
    "    total += data[days]\n",
    "    \n",
    "for _ in range(80):\n",
    "    new_data = {}\n",
    "    for i in range(9):\n",
    "        new_data[i] = 0\n",
    "    \n",
    "    for day in range(9):\n",
    "        if day == 0:\n",
    "            new_data[6] = data[0]\n",
    "            new_data[8] = data[0]\n",
    "        else:\n",
    "            new_data[day-1] = new_data[day-1] + data[day]\n",
    "    data = new_data\n",
    "    \n",
    "total = 0\n",
    "for i in range(9):\n",
    "    total += data[i]\n",
    "total"
   ]
  },
  {
   "cell_type": "code",
   "execution_count": 1,
   "id": "fd7e537c",
   "metadata": {},
   "outputs": [
    {
     "data": {
      "text/plain": [
       "1622533344325"
      ]
     },
     "execution_count": 1,
     "metadata": {},
     "output_type": "execute_result"
    }
   ],
   "source": [
    "import numpy as np\n",
    "inputs = []\n",
    "with open('./input.txt','r') as file:\n",
    "    inputs = file.readline().split(',')\n",
    "\n",
    "inputs = [int(i) for i in inputs]\n",
    "inputs = np.array(inputs)\n",
    "\n",
    "data = {}\n",
    "total = 0\n",
    "\n",
    "for days in range(9):\n",
    "    data[days] = len(np.argwhere(inputs==days))\n",
    "    total += data[days]\n",
    "    \n",
    "for _ in range(256):\n",
    "    new_data = {}\n",
    "    for i in range(9):\n",
    "        new_data[i] = 0\n",
    "    \n",
    "    for day in range(9):\n",
    "        if day == 0:\n",
    "            new_data[6] = data[0]\n",
    "            new_data[8] = data[0]\n",
    "        else:\n",
    "            new_data[day-1] = new_data[day-1] + data[day]\n",
    "    data = new_data\n",
    "    \n",
    "total = 0\n",
    "for i in range(9):\n",
    "    total += data[i]\n",
    "total"
   ]
  },
  {
   "cell_type": "code",
   "execution_count": null,
   "id": "cd271697",
   "metadata": {},
   "outputs": [],
   "source": []
  }
 ],
 "metadata": {
  "kernelspec": {
   "display_name": "Python 3 (ipykernel)",
   "language": "python",
   "name": "python3"
  },
  "language_info": {
   "codemirror_mode": {
    "name": "ipython",
    "version": 3
   },
   "file_extension": ".py",
   "mimetype": "text/x-python",
   "name": "python",
   "nbconvert_exporter": "python",
   "pygments_lexer": "ipython3",
   "version": "3.9.7"
  }
 },
 "nbformat": 4,
 "nbformat_minor": 5
}
