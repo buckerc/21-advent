{
 "cells": [
  {
   "cell_type": "code",
   "execution_count": 22,
   "id": "68a5d091",
   "metadata": {},
   "outputs": [
    {
     "data": {
      "text/plain": [
       "316851"
      ]
     },
     "execution_count": 22,
     "metadata": {},
     "output_type": "execute_result"
    }
   ],
   "source": [
    "import numpy as np\n",
    "\n",
    "score = 0\n",
    "stuff = [0,0,0,0]\n",
    "with open('./input.txt','r') as file:\n",
    "    for line in file:\n",
    "        inputs = line.strip()\n",
    "\n",
    "        stack = []\n",
    "\n",
    "        for i in inputs:\n",
    "            if i == '(' or i == '[' or i == '{' or i == '<':\n",
    "                stack.append(i)\n",
    "            else:\n",
    "                if i == ')':\n",
    "                    if stack[-1] != '(':\n",
    "                        score = score + 3\n",
    "                        break\n",
    "                    else:\n",
    "                        _ = stack.pop(-1)\n",
    "                elif i == ']':\n",
    "                    if stack[-1] != '[':\n",
    "                        score = score + 57\n",
    "                        break\n",
    "                    else:\n",
    "                        _ = stack.pop(-1)\n",
    "                elif i == '}':\n",
    "                    if stack[-1] != '{':\n",
    "                        score = score + 1197\n",
    "                        break\n",
    "                    else:\n",
    "                        _ = stack.pop(-1)\n",
    "                elif i == '>':\n",
    "                    if stack[-1] != '<':\n",
    "                        score = score + 25137\n",
    "                        break\n",
    "                    else:\n",
    "                        _ = stack.pop(-1)\n",
    "score"
   ]
  },
  {
   "cell_type": "code",
   "execution_count": 59,
   "id": "22f7d964",
   "metadata": {},
   "outputs": [
    {
     "name": "stdout",
     "output_type": "stream",
     "text": [
      "2182912364\n"
     ]
    }
   ],
   "source": [
    "import numpy as np\n",
    "\n",
    "score = []\n",
    "with open('./input.txt','r') as file:\n",
    "    for line in file:\n",
    "        inputs = line.strip()\n",
    "\n",
    "        stack = []\n",
    "\n",
    "        for i in inputs:\n",
    "            fail = False\n",
    "            if i == '(' or i == '[' or i == '{' or i == '<':\n",
    "                stack.append(i)\n",
    "            else:\n",
    "                if i == ')':\n",
    "                    if stack[-1] != '(':\n",
    "                        fail = True\n",
    "                        break\n",
    "                    else:\n",
    "                        _ = stack.pop(-1)\n",
    "                elif i == ']':\n",
    "                    if stack[-1] != '[':\n",
    "                        fail = True\n",
    "                        break\n",
    "                    else:\n",
    "                        _ = stack.pop(-1)\n",
    "                elif i == '}':\n",
    "                    if stack[-1] != '{':\n",
    "                        fail = True\n",
    "                        break\n",
    "                    else:\n",
    "                        _ = stack.pop(-1)\n",
    "                elif i == '>':\n",
    "                    if stack[-1] != '<':\n",
    "                        fail = True\n",
    "                        break\n",
    "                    else:\n",
    "                        _ = stack.pop(-1)\n",
    "\n",
    "        if len(stack) != 0 and fail == False:\n",
    "            temp = 0\n",
    "            for s in stack[::-1]:\n",
    "                if s == '(':\n",
    "                    temp = temp * 5 +1\n",
    "                elif s == '[':\n",
    "                    temp = temp * 5 +2                   \n",
    "                elif s == '{':\n",
    "                    temp = temp * 5 +3                    \n",
    "                elif s == '<':\n",
    "                    temp = temp * 5 +4                    \n",
    "                else:\n",
    "                    assert 3==2\n",
    "            score.append(temp)\n",
    "\n",
    "            \n",
    "assert len(score)%2 == 1, \"must be odd\"\n",
    "\n",
    "print(int(np.median(score)))"
   ]
  }
 ],
 "metadata": {
  "kernelspec": {
   "display_name": "Python 3 (ipykernel)",
   "language": "python",
   "name": "python3"
  },
  "language_info": {
   "codemirror_mode": {
    "name": "ipython",
    "version": 3
   },
   "file_extension": ".py",
   "mimetype": "text/x-python",
   "name": "python",
   "nbconvert_exporter": "python",
   "pygments_lexer": "ipython3",
   "version": "3.9.7"
  }
 },
 "nbformat": 4,
 "nbformat_minor": 5
}
