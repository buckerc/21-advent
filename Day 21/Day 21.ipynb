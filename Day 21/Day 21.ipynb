{
 "cells": [
  {
   "cell_type": "code",
   "execution_count": 25,
   "id": "ae3841b3-bf80-41de-9bb7-b8410d0906c3",
   "metadata": {},
   "outputs": [
    {
     "data": {
      "text/plain": [
       "[4, 9]"
      ]
     },
     "execution_count": 25,
     "metadata": {},
     "output_type": "execute_result"
    }
   ],
   "source": [
    "import numpy as np\n",
    "import pandas as pd\n",
    "x = []\n",
    "with open('./input.txt', 'r') as file:\n",
    "    for line in file:\n",
    "        x.append(int(line.strip()[-1]))\n",
    "x\n"
   ]
  },
  {
   "cell_type": "code",
   "execution_count": 26,
   "id": "48140885-e6a0-49c7-aa99-33519c47c3ef",
   "metadata": {},
   "outputs": [
    {
     "data": {
      "text/plain": [
       "903630"
      ]
     },
     "execution_count": 26,
     "metadata": {},
     "output_type": "execute_result"
    }
   ],
   "source": [
    "pos = x.copy()\n",
    "die = 1\n",
    "turn = -1\n",
    "finished = False\n",
    "roll = 0\n",
    "score = [0,0]\n",
    "while finished == False:\n",
    "    turn = (turn + 1) % 2\n",
    "    for _ in range(3):\n",
    "        roll += 1\n",
    "        pos[turn] = ((pos[turn] + die) % 10)\n",
    "        if pos[turn] == 0:\n",
    "            pos[turn] = 10\n",
    "        die = (die + 1) % 100\n",
    "        if die == 0:\n",
    "            die = 100\n",
    "\n",
    "    score[turn] += pos[turn]\n",
    "    if score[turn] >= 1000:\n",
    "        finished = True\n",
    " \n",
    "min(score)*roll "
   ]
  },
  {
   "cell_type": "code",
   "execution_count": null,
   "id": "3725b303-e0a0-4cf9-8a95-7421417aa7cc",
   "metadata": {},
   "outputs": [],
   "source": []
  },
  {
   "cell_type": "code",
   "execution_count": 161,
   "id": "d3639453-95a4-4c15-80be-848acab405c9",
   "metadata": {},
   "outputs": [
    {
     "data": {
      "text/plain": [
       "array([0., 0., 0., 1., 3., 6., 7., 6., 3., 1.])"
      ]
     },
     "execution_count": 161,
     "metadata": {},
     "output_type": "execute_result"
    }
   ],
   "source": [
    "# If a player starts on cell startOn[i] this says where they could possibly end up\n",
    "\n",
    "startsOn = []\n",
    "for start in range(1,11):\n",
    "    temp_end = []\n",
    "    for i in range(1,4):\n",
    "        for j in range(1,4):\n",
    "            for k in range(1,4):\n",
    "                e = (start+i+j+k) % 10\n",
    "                if e == 0:\n",
    "                    e = 10\n",
    "                temp_end.append(e)\n",
    "    e = np.zeros(11)\n",
    "    for t in temp_end:\n",
    "        e[t] += 1\n",
    "    startsOn.append(e)\n",
    "startsOn = np.array(startOn)\n",
    "startsOn[0]"
   ]
  },
  {
   "cell_type": "code",
   "execution_count": 166,
   "id": "e01ea34a-ab5f-4ed3-badc-717b2ea61814",
   "metadata": {},
   "outputs": [
    {
     "name": "stdout",
     "output_type": "stream",
     "text": [
      "There are 1 different game states being played\n",
      "There are 7 different game states being played\n",
      "There are 49 different game states being played\n",
      "There are 343 different game states being played\n",
      "There are 2,401 different game states being played\n",
      "There are 5,439 different game states being played\n",
      "There are 11,988 different game states being played\n",
      "There are 9,936 different game states being played\n",
      "There are 8,464 different game states being played\n",
      "There are 6,440 different game states being played\n",
      "There are 4,900 different game states being played\n",
      "There are 3,430 different game states being played\n",
      "There are 2,401 different game states being played\n",
      "There are 1,225 different game states being played\n",
      "There are 625 different game states being played\n",
      "There are 250 different game states being played\n",
      "There are 100 different game states being played\n",
      "There are 10 different game states being played\n",
      "There are 1 different game states being played\n",
      "The answer is 303121579983974\n"
     ]
    }
   ],
   "source": [
    "d = [{\n",
    "    'start0' : x[0]-1,\n",
    "    'start1' : x[1]-1,\n",
    "    'points0' : 0,\n",
    "    'points1' : 0,\n",
    "    'turn' : 1,\n",
    "    'instance' : 1\n",
    "}]\n",
    "df = pd.DataFrame(d)\n",
    "\n",
    "winning = [0,0]\n",
    "\n",
    "winningAmount = 21\n",
    "\n",
    "for _ in range(20):\n",
    "    print(f\"There are {len(df):,} different game states being played\")\n",
    "    tempDF = []\n",
    "    for row in df.iloc():\n",
    "        current_turn = int(row['turn'])^1\n",
    "        if current_turn:\n",
    "            start = 'start1'\n",
    "            score = 'points1'\n",
    "            otherStart = 'start0'\n",
    "            otherScore = 'points0'\n",
    "        else:\n",
    "            start = 'start0'\n",
    "            score = 'points0'\n",
    "            otherStart = 'start1'\n",
    "            otherScore = 'points1'\n",
    "\n",
    "        endings = startsOn[int(row[start])]\n",
    "\n",
    "        for pos, e in enumerate(endings):\n",
    "            if e == 0:\n",
    "                continue\n",
    "            tempDF.append({\n",
    "                start : pos,\n",
    "                otherStart : row[otherStart],\n",
    "                score : row[score] + pos + 1,\n",
    "                otherScore : row[otherScore],\n",
    "                'turn': current_turn,\n",
    "                'instance' : row['instance'] * e\n",
    "            })\n",
    "\n",
    "    df = pd.DataFrame(tempDF) \n",
    "    winning[0] += df[(df['points0'] >= winningAmount)]['instance'].sum()\n",
    "    winning[1] += df[(df['points1'] >= winningAmount)]['instance'].sum()\n",
    "\n",
    "    df.drop(df[(df['points0'] >= winningAmount)].index, inplace=True)\n",
    "    df.drop(df[(df['points1'] >= winningAmount)].index, inplace=True)\n",
    "\n",
    "    if len(df) == 0:\n",
    "        break\n",
    "\n",
    "    tempDF = []\n",
    "    for ind, gbdf in df.groupby(['start0','start1','turn', 'points0', 'points1']):\n",
    "        s0,s1,t,p0,p1 = ind\n",
    "\n",
    "        tempDF.append({\n",
    "            'start0': s0,\n",
    "            'start1': s1,\n",
    "            'points0': p0,\n",
    "            'points1' : p1,\n",
    "            'turn': t,\n",
    "            'instance': gbdf['instance'].sum()\n",
    "        })\n",
    "    df = pd.DataFrame(tempDF)\n",
    "print(f\"The answer is {int(max(winning))}\")"
   ]
  },
  {
   "cell_type": "code",
   "execution_count": null,
   "id": "ec4656c2-3beb-41e5-9356-841d40f4553d",
   "metadata": {},
   "outputs": [],
   "source": []
  }
 ],
 "metadata": {
  "kernelspec": {
   "display_name": "Python 3 (ipykernel)",
   "language": "python",
   "name": "python3"
  },
  "language_info": {
   "codemirror_mode": {
    "name": "ipython",
    "version": 3
   },
   "file_extension": ".py",
   "mimetype": "text/x-python",
   "name": "python",
   "nbconvert_exporter": "python",
   "pygments_lexer": "ipython3",
   "version": "3.10.2"
  }
 },
 "nbformat": 4,
 "nbformat_minor": 5
}
