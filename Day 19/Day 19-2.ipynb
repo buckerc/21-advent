{
 "cells": [
  {
   "cell_type": "code",
   "execution_count": 109,
   "id": "e9d5b875-2eae-44f1-98e7-804e7f1f547f",
   "metadata": {},
   "outputs": [],
   "source": [
    "testing = '''\n",
    "--- scanner 0 ---\n",
    "404,-588,-901\n",
    "528,-643,409\n",
    "-838,591,734\n",
    "390,-675,-793\n",
    "-537,-823,-458\n",
    "-485,-357,347\n",
    "-345,-311,381\n",
    "-661,-816,-575\n",
    "-876,649,763\n",
    "-618,-824,-621\n",
    "553,345,-567\n",
    "474,580,667\n",
    "-447,-329,318\n",
    "-584,868,-557\n",
    "544,-627,-890\n",
    "564,392,-477\n",
    "455,729,728\n",
    "-892,524,684\n",
    "-689,845,-530\n",
    "423,-701,434\n",
    "7,-33,-71\n",
    "630,319,-379\n",
    "443,580,662\n",
    "-789,900,-551\n",
    "459,-707,401\n",
    "\n",
    "--- scanner 1 ---\n",
    "686,422,578\n",
    "605,423,415\n",
    "515,917,-361\n",
    "-336,658,858\n",
    "95,138,22\n",
    "-476,619,847\n",
    "-340,-569,-846\n",
    "567,-361,727\n",
    "-460,603,-452\n",
    "669,-402,600\n",
    "729,430,532\n",
    "-500,-761,534\n",
    "-322,571,750\n",
    "-466,-666,-811\n",
    "-429,-592,574\n",
    "-355,545,-477\n",
    "703,-491,-529\n",
    "-328,-685,520\n",
    "413,935,-424\n",
    "-391,539,-444\n",
    "586,-435,557\n",
    "-364,-763,-893\n",
    "807,-499,-711\n",
    "755,-354,-619\n",
    "553,889,-390\n",
    "\n",
    "--- scanner 2 ---\n",
    "649,640,665\n",
    "682,-795,504\n",
    "-784,533,-524\n",
    "-644,584,-595\n",
    "-588,-843,648\n",
    "-30,6,44\n",
    "-674,560,763\n",
    "500,723,-460\n",
    "609,671,-379\n",
    "-555,-800,653\n",
    "-675,-892,-343\n",
    "697,-426,-610\n",
    "578,704,681\n",
    "493,664,-388\n",
    "-671,-858,530\n",
    "-667,343,800\n",
    "571,-461,-707\n",
    "-138,-166,112\n",
    "-889,563,-600\n",
    "646,-828,498\n",
    "640,759,510\n",
    "-630,509,768\n",
    "-681,-892,-333\n",
    "673,-379,-804\n",
    "-742,-814,-386\n",
    "577,-820,562\n",
    "\n",
    "--- scanner 3 ---\n",
    "-589,542,597\n",
    "605,-692,669\n",
    "-500,565,-823\n",
    "-660,373,557\n",
    "-458,-679,-417\n",
    "-488,449,543\n",
    "-626,468,-788\n",
    "338,-750,-386\n",
    "528,-832,-391\n",
    "562,-778,733\n",
    "-938,-730,414\n",
    "543,643,-506\n",
    "-524,371,-870\n",
    "407,773,750\n",
    "-104,29,83\n",
    "378,-903,-323\n",
    "-778,-728,485\n",
    "426,699,580\n",
    "-438,-605,-362\n",
    "-469,-447,-387\n",
    "509,732,623\n",
    "647,635,-688\n",
    "-868,-804,481\n",
    "614,-800,639\n",
    "595,780,-596\n",
    "\n",
    "--- scanner 4 ---\n",
    "727,592,562\n",
    "-293,-554,779\n",
    "441,611,-461\n",
    "-714,465,-776\n",
    "-743,427,-804\n",
    "-660,-479,-426\n",
    "832,-632,460\n",
    "927,-485,-438\n",
    "408,393,-506\n",
    "466,436,-512\n",
    "110,16,151\n",
    "-258,-428,682\n",
    "-393,719,612\n",
    "-211,-452,876\n",
    "808,-476,-593\n",
    "-575,615,604\n",
    "-485,667,467\n",
    "-680,325,-822\n",
    "-627,-443,-432\n",
    "872,-547,-609\n",
    "833,512,582\n",
    "807,604,487\n",
    "839,-516,451\n",
    "891,-625,532\n",
    "-652,-548,-490\n",
    "30,-46,-14'''"
   ]
  },
  {
   "cell_type": "code",
   "execution_count": 196,
   "id": "8115d07a-71e8-47ef-b163-0ba9150231ea",
   "metadata": {},
   "outputs": [],
   "source": [
    "testing=None"
   ]
  },
  {
   "cell_type": "code",
   "execution_count": null,
   "id": "b8b514c7-ff67-40e7-b7b5-926ba7026832",
   "metadata": {},
   "outputs": [],
   "source": []
  },
  {
   "cell_type": "code",
   "execution_count": 197,
   "id": "d05d3a87-961a-46db-91cf-74d77b246d5e",
   "metadata": {
    "tags": []
   },
   "outputs": [],
   "source": [
    "import numpy as np\n",
    "scanners = {}\n",
    "if testing:\n",
    "    for line in testing.split('\\n')[1:]:\n",
    "        if ('---') in line:\n",
    "            idx = int(line.strip()[12:].split(' ')[0])\n",
    "            scanners[idx] = []\n",
    "        elif line.strip() == '':\n",
    "            continue\n",
    "        else:\n",
    "            x,y,z = [int(i) for i in line.strip().split(',')]\n",
    "            scanners[idx].append((x,y,z))\n",
    "else:\n",
    "    with open('./input.txt','r') as file:\n",
    "        for line in file:\n",
    "            if ('---') in line:\n",
    "                idx = int(line.strip()[12:].split(' ')[0])\n",
    "                scanners[idx] = []\n",
    "            elif line.strip() == '':\n",
    "                continue\n",
    "            else:\n",
    "                x,y,z = [int(i) for i in line.strip().split(',')]\n",
    "                scanners[idx].append((x,y,z))\n",
    "for k in scanners.keys():\n",
    "    scanners[k] = np.array(scanners[k])\n",
    "    \n",
    "def deg2rad(deg):\n",
    "    return deg/360*2*np.pi\n",
    "\n",
    "#make rotation matrix for given roll, pitch, and yaw\n",
    "def rx(roll):\n",
    "    roll = deg2rad(roll)\n",
    "    Rx = np.array([[1, 0            , 0.          ],\n",
    "                   [0, np.cos(roll), -np.sin(roll)],\n",
    "                   [0, np.sin(roll),  np.cos(roll)]])\n",
    "    return Rx\n",
    "\n",
    "def ry(pitch):\n",
    "    pitch = deg2rad(pitch)    \n",
    "    Ry = np.array([[np.cos(pitch) , 0, np.sin(pitch)],\n",
    "                   [0             , 1,             0],\n",
    "                   [-np.sin(pitch), 0, np.cos(pitch)]])\n",
    "    return Ry\n",
    "    \n",
    "def rz(yaw):\n",
    "    yaw = deg2rad(yaw)    \n",
    "    Rz = np.array([[np.cos(yaw), -np.sin(yaw), 0],\n",
    "                   [np.sin(yaw),  np.cos(yaw), 0],\n",
    "                   [0.         ,  0          , 1]])\n",
    "    return Rz\n",
    "\n",
    "def rotate():\n",
    "    #do the first 4 faces (6,5,1,2)\n",
    "    r = np.identity(3)    \n",
    "    for _ in range(4):\n",
    "        r = np.matmul(r,rx(90))\n",
    "        for _ in range(4):\n",
    "            r = np.matmul(r,rz(90)).astype(int)\n",
    "            yield r\n",
    "    #do face 3\n",
    "    r = np.identity(3)\n",
    "    r = np.matmul(r,ry(90))\n",
    "    for _ in range(4):\n",
    "        r = np.matmul(r,rz(90)).astype(int)\n",
    "        yield r\n",
    "    #do face 4        \n",
    "    r = np.matmul(r,ry(180))    \n",
    "    for _ in range(4):\n",
    "        r = np.matmul(r,rz(90)).astype(int)\n",
    "        yield r\n",
    "        \n",
    "def equal(a,b):\n",
    "    counter = 0\n",
    "    for x in a:\n",
    "        for y in b:\n",
    "            if np.all(x==y):\n",
    "                counter +=1\n",
    "    return counter\n",
    " \n",
    "    \n",
    "rotation = []\n",
    "for r in rotate():\n",
    "    rotation.append(r)\n",
    "rotation = np.array(rotation)    "
   ]
  },
  {
   "cell_type": "code",
   "execution_count": null,
   "id": "38901d98-a41a-4a28-aa18-9c16a72c639f",
   "metadata": {},
   "outputs": [],
   "source": []
  },
  {
   "cell_type": "code",
   "execution_count": 198,
   "id": "159fa356-0591-4bc9-be19-7cb9f306e0a5",
   "metadata": {},
   "outputs": [
    {
     "data": {
      "text/plain": [
       "(24, 26, 3)"
      ]
     },
     "execution_count": 198,
     "metadata": {},
     "output_type": "execute_result"
    }
   ],
   "source": [
    "scan = scanners.copy()\n",
    "temp = scan.copy()\n",
    "for k,v in scan.items():\n",
    "    temp[k] = np.matmul(rotation,v.T)\n",
    "    temp[k] = np.swapaxes(temp[k],1,2) \n",
    "\n",
    "scan = temp.copy()\n",
    "scan[0].shape"
   ]
  },
  {
   "cell_type": "code",
   "execution_count": 202,
   "id": "72d124f9-1d4e-4edf-9685-8b094baeb80e",
   "metadata": {},
   "outputs": [
    {
     "data": {
      "text/plain": [
       "950.0"
      ]
     },
     "execution_count": 202,
     "metadata": {},
     "output_type": "execute_result"
    }
   ],
   "source": [
    "import pandas as pd\n",
    "dd = []\n",
    "for scanner in list(scan.keys()):\n",
    "    for idx, s in enumerate(scan[scanner]):\n",
    "        for x,y,z in s:\n",
    "            dd.append({\n",
    "                'rot':idx,\n",
    "                'x':x,\n",
    "                'y':y,\n",
    "                'z':z,\n",
    "                'scanner': scanner})\n",
    "going = pd.DataFrame(dd)\n",
    "everything = going.copy()\n",
    "len(everything)/24"
   ]
  },
  {
   "cell_type": "code",
   "execution_count": null,
   "id": "2a07e5fc-14e5-417f-ab34-279f8a2fabea",
   "metadata": {},
   "outputs": [],
   "source": []
  },
  {
   "cell_type": "code",
   "execution_count": null,
   "id": "4e023a55-3a36-4887-a51f-a671aa1d21b1",
   "metadata": {},
   "outputs": [],
   "source": []
  },
  {
   "cell_type": "code",
   "execution_count": 200,
   "id": "0dedbbd8-1e67-44db-a99b-21cbbd5a54c9",
   "metadata": {},
   "outputs": [
    {
     "data": {
      "text/plain": [
       "array([ 0,  1,  2,  3,  4,  5,  6,  7,  8,  9, 10, 11, 12, 13, 14, 15, 16,\n",
       "       17, 18, 19, 20, 21, 22, 23, 24, 25, 26, 27, 28, 29, 30, 31, 32, 33,\n",
       "       34, 35, 36])"
      ]
     },
     "execution_count": 200,
     "metadata": {},
     "output_type": "execute_result"
    }
   ],
   "source": [
    "everything['scanner'].unique()"
   ]
  },
  {
   "cell_type": "code",
   "execution_count": 203,
   "id": "3b78cecc-8538-4a9b-b0df-948f3ca2710e",
   "metadata": {},
   "outputs": [
    {
     "data": {
      "text/plain": [
       "506"
      ]
     },
     "execution_count": 203,
     "metadata": {},
     "output_type": "execute_result"
    }
   ],
   "source": []
  },
  {
   "cell_type": "code",
   "execution_count": 217,
   "id": "ff1e43f4-60de-49cb-9355-80acb93996c6",
   "metadata": {},
   "outputs": [],
   "source": [
    "weird = [34, 33, 31, 21, 35, 30, 29, 32, 27]"
   ]
  },
  {
   "cell_type": "code",
   "execution_count": 218,
   "id": "67afb90e-b193-40f4-9b38-8e36f447f817",
   "metadata": {},
   "outputs": [
    {
     "name": "stdout",
     "output_type": "stream",
     "text": [
      "Starting with 614 beacons remaining from 9 scanners\n",
      "Wonder if we fail\n",
      "Wonder if we fail\n",
      "Wonder if we fail\n"
     ]
    },
    {
     "ename": "KeyboardInterrupt",
     "evalue": "",
     "output_type": "error",
     "traceback": [
      "\u001b[0;31m---------------------------------------------------------------------------\u001b[0m",
      "\u001b[0;31mKeyboardInterrupt\u001b[0m                         Traceback (most recent call last)",
      "Input \u001b[0;32mIn [218]\u001b[0m, in \u001b[0;36m<module>\u001b[0;34m\u001b[0m\n\u001b[1;32m     19\u001b[0m \u001b[38;5;28;01mfor\u001b[39;00m centreBeacon2 \u001b[38;5;129;01min\u001b[39;00m \u001b[38;5;28mrange\u001b[39m(\u001b[38;5;28mlen\u001b[39m(yourCentre)):\n\u001b[1;32m     21\u001b[0m     altered \u001b[38;5;241m=\u001b[39m toBeCentred \u001b[38;5;241m-\u001b[39m toBeCentred\u001b[38;5;241m.\u001b[39miloc[centreBeacon1] \u001b[38;5;241m+\u001b[39m yourCentre\u001b[38;5;241m.\u001b[39miloc[centreBeacon2]\n\u001b[0;32m---> 22\u001b[0m     same \u001b[38;5;241m=\u001b[39m \u001b[43mpd\u001b[49m\u001b[38;5;241;43m.\u001b[39;49m\u001b[43mmerge\u001b[49m\u001b[43m(\u001b[49m\u001b[43maltered\u001b[49m\u001b[43m,\u001b[49m\u001b[43m \u001b[49m\u001b[43myourCentre\u001b[49m\u001b[43m,\u001b[49m\u001b[43m \u001b[49m\u001b[43mon\u001b[49m\u001b[38;5;241;43m=\u001b[39;49m\u001b[43m[\u001b[49m\u001b[38;5;124;43m'\u001b[39;49m\u001b[38;5;124;43mx\u001b[39;49m\u001b[38;5;124;43m'\u001b[39;49m\u001b[43m,\u001b[49m\u001b[38;5;124;43m'\u001b[39;49m\u001b[38;5;124;43my\u001b[39;49m\u001b[38;5;124;43m'\u001b[39;49m\u001b[43m,\u001b[49m\u001b[38;5;124;43m'\u001b[39;49m\u001b[38;5;124;43mz\u001b[39;49m\u001b[38;5;124;43m'\u001b[39;49m\u001b[43m]\u001b[49m\u001b[43m,\u001b[49m\u001b[43m \u001b[49m\u001b[43mhow\u001b[49m\u001b[38;5;241;43m=\u001b[39;49m\u001b[38;5;124;43m'\u001b[39;49m\u001b[38;5;124;43mouter\u001b[39;49m\u001b[38;5;124;43m'\u001b[39;49m\u001b[43m,\u001b[49m\u001b[43m \u001b[49m\u001b[43mindicator\u001b[49m\u001b[38;5;241;43m=\u001b[39;49m\u001b[38;5;28;43;01mTrue\u001b[39;49;00m\u001b[43m)\u001b[49m\n\u001b[1;32m     24\u001b[0m     \u001b[38;5;28;01mif\u001b[39;00m \u001b[38;5;28mlen\u001b[39m(same[(same[\u001b[38;5;124m'\u001b[39m\u001b[38;5;124m_merge\u001b[39m\u001b[38;5;124m'\u001b[39m]\u001b[38;5;241m==\u001b[39m\u001b[38;5;124m'\u001b[39m\u001b[38;5;124mboth\u001b[39m\u001b[38;5;124m'\u001b[39m)]) \u001b[38;5;241m>\u001b[39m\u001b[38;5;241m=\u001b[39m \u001b[38;5;241m12\u001b[39m:\n\u001b[1;32m     25\u001b[0m         dd \u001b[38;5;241m=\u001b[39m []\n",
      "File \u001b[0;32m~/opt/anaconda3/envs/geo_env/lib/python3.10/site-packages/pandas/core/reshape/merge.py:107\u001b[0m, in \u001b[0;36mmerge\u001b[0;34m(left, right, how, on, left_on, right_on, left_index, right_index, sort, suffixes, copy, indicator, validate)\u001b[0m\n\u001b[1;32m     90\u001b[0m \u001b[38;5;129m@Substitution\u001b[39m(\u001b[38;5;124m\"\u001b[39m\u001b[38;5;130;01m\\n\u001b[39;00m\u001b[38;5;124mleft : DataFrame or named Series\u001b[39m\u001b[38;5;124m\"\u001b[39m)\n\u001b[1;32m     91\u001b[0m \u001b[38;5;129m@Appender\u001b[39m(_merge_doc, indents\u001b[38;5;241m=\u001b[39m\u001b[38;5;241m0\u001b[39m)\n\u001b[1;32m     92\u001b[0m \u001b[38;5;28;01mdef\u001b[39;00m \u001b[38;5;21mmerge\u001b[39m(\n\u001b[0;32m   (...)\u001b[0m\n\u001b[1;32m    105\u001b[0m     validate: \u001b[38;5;28mstr\u001b[39m \u001b[38;5;241m|\u001b[39m \u001b[38;5;28;01mNone\u001b[39;00m \u001b[38;5;241m=\u001b[39m \u001b[38;5;28;01mNone\u001b[39;00m,\n\u001b[1;32m    106\u001b[0m ) \u001b[38;5;241m-\u001b[39m\u001b[38;5;241m>\u001b[39m DataFrame:\n\u001b[0;32m--> 107\u001b[0m     op \u001b[38;5;241m=\u001b[39m \u001b[43m_MergeOperation\u001b[49m\u001b[43m(\u001b[49m\n\u001b[1;32m    108\u001b[0m \u001b[43m        \u001b[49m\u001b[43mleft\u001b[49m\u001b[43m,\u001b[49m\n\u001b[1;32m    109\u001b[0m \u001b[43m        \u001b[49m\u001b[43mright\u001b[49m\u001b[43m,\u001b[49m\n\u001b[1;32m    110\u001b[0m \u001b[43m        \u001b[49m\u001b[43mhow\u001b[49m\u001b[38;5;241;43m=\u001b[39;49m\u001b[43mhow\u001b[49m\u001b[43m,\u001b[49m\n\u001b[1;32m    111\u001b[0m \u001b[43m        \u001b[49m\u001b[43mon\u001b[49m\u001b[38;5;241;43m=\u001b[39;49m\u001b[43mon\u001b[49m\u001b[43m,\u001b[49m\n\u001b[1;32m    112\u001b[0m \u001b[43m        \u001b[49m\u001b[43mleft_on\u001b[49m\u001b[38;5;241;43m=\u001b[39;49m\u001b[43mleft_on\u001b[49m\u001b[43m,\u001b[49m\n\u001b[1;32m    113\u001b[0m \u001b[43m        \u001b[49m\u001b[43mright_on\u001b[49m\u001b[38;5;241;43m=\u001b[39;49m\u001b[43mright_on\u001b[49m\u001b[43m,\u001b[49m\n\u001b[1;32m    114\u001b[0m \u001b[43m        \u001b[49m\u001b[43mleft_index\u001b[49m\u001b[38;5;241;43m=\u001b[39;49m\u001b[43mleft_index\u001b[49m\u001b[43m,\u001b[49m\n\u001b[1;32m    115\u001b[0m \u001b[43m        \u001b[49m\u001b[43mright_index\u001b[49m\u001b[38;5;241;43m=\u001b[39;49m\u001b[43mright_index\u001b[49m\u001b[43m,\u001b[49m\n\u001b[1;32m    116\u001b[0m \u001b[43m        \u001b[49m\u001b[43msort\u001b[49m\u001b[38;5;241;43m=\u001b[39;49m\u001b[43msort\u001b[49m\u001b[43m,\u001b[49m\n\u001b[1;32m    117\u001b[0m \u001b[43m        \u001b[49m\u001b[43msuffixes\u001b[49m\u001b[38;5;241;43m=\u001b[39;49m\u001b[43msuffixes\u001b[49m\u001b[43m,\u001b[49m\n\u001b[1;32m    118\u001b[0m \u001b[43m        \u001b[49m\u001b[43mcopy\u001b[49m\u001b[38;5;241;43m=\u001b[39;49m\u001b[43mcopy\u001b[49m\u001b[43m,\u001b[49m\n\u001b[1;32m    119\u001b[0m \u001b[43m        \u001b[49m\u001b[43mindicator\u001b[49m\u001b[38;5;241;43m=\u001b[39;49m\u001b[43mindicator\u001b[49m\u001b[43m,\u001b[49m\n\u001b[1;32m    120\u001b[0m \u001b[43m        \u001b[49m\u001b[43mvalidate\u001b[49m\u001b[38;5;241;43m=\u001b[39;49m\u001b[43mvalidate\u001b[49m\u001b[43m,\u001b[49m\n\u001b[1;32m    121\u001b[0m \u001b[43m    \u001b[49m\u001b[43m)\u001b[49m\n\u001b[1;32m    122\u001b[0m     \u001b[38;5;28;01mreturn\u001b[39;00m op\u001b[38;5;241m.\u001b[39mget_result()\n",
      "File \u001b[0;32m~/opt/anaconda3/envs/geo_env/lib/python3.10/site-packages/pandas/core/reshape/merge.py:700\u001b[0m, in \u001b[0;36m_MergeOperation.__init__\u001b[0;34m(self, left, right, how, on, left_on, right_on, axis, left_index, right_index, sort, suffixes, copy, indicator, validate)\u001b[0m\n\u001b[1;32m    693\u001b[0m \u001b[38;5;28mself\u001b[39m\u001b[38;5;241m.\u001b[39m_cross \u001b[38;5;241m=\u001b[39m cross_col\n\u001b[1;32m    695\u001b[0m \u001b[38;5;66;03m# note this function has side effects\u001b[39;00m\n\u001b[1;32m    696\u001b[0m (\n\u001b[1;32m    697\u001b[0m     \u001b[38;5;28mself\u001b[39m\u001b[38;5;241m.\u001b[39mleft_join_keys,\n\u001b[1;32m    698\u001b[0m     \u001b[38;5;28mself\u001b[39m\u001b[38;5;241m.\u001b[39mright_join_keys,\n\u001b[1;32m    699\u001b[0m     \u001b[38;5;28mself\u001b[39m\u001b[38;5;241m.\u001b[39mjoin_names,\n\u001b[0;32m--> 700\u001b[0m ) \u001b[38;5;241m=\u001b[39m \u001b[38;5;28;43mself\u001b[39;49m\u001b[38;5;241;43m.\u001b[39;49m\u001b[43m_get_merge_keys\u001b[49m\u001b[43m(\u001b[49m\u001b[43m)\u001b[49m\n\u001b[1;32m    702\u001b[0m \u001b[38;5;66;03m# validate the merge keys dtypes. We may need to coerce\u001b[39;00m\n\u001b[1;32m    703\u001b[0m \u001b[38;5;66;03m# to avoid incompatible dtypes\u001b[39;00m\n\u001b[1;32m    704\u001b[0m \u001b[38;5;28mself\u001b[39m\u001b[38;5;241m.\u001b[39m_maybe_coerce_merge_keys()\n",
      "File \u001b[0;32m~/opt/anaconda3/envs/geo_env/lib/python3.10/site-packages/pandas/core/reshape/merge.py:1155\u001b[0m, in \u001b[0;36m_MergeOperation._get_merge_keys\u001b[0;34m(self)\u001b[0m\n\u001b[1;32m   1152\u001b[0m     \u001b[38;5;28mself\u001b[39m\u001b[38;5;241m.\u001b[39mleft \u001b[38;5;241m=\u001b[39m \u001b[38;5;28mself\u001b[39m\u001b[38;5;241m.\u001b[39mleft\u001b[38;5;241m.\u001b[39m_drop_labels_or_levels(left_drop)\n\u001b[1;32m   1154\u001b[0m \u001b[38;5;28;01mif\u001b[39;00m right_drop:\n\u001b[0;32m-> 1155\u001b[0m     \u001b[38;5;28mself\u001b[39m\u001b[38;5;241m.\u001b[39mright \u001b[38;5;241m=\u001b[39m \u001b[38;5;28;43mself\u001b[39;49m\u001b[38;5;241;43m.\u001b[39;49m\u001b[43mright\u001b[49m\u001b[38;5;241;43m.\u001b[39;49m\u001b[43m_drop_labels_or_levels\u001b[49m\u001b[43m(\u001b[49m\u001b[43mright_drop\u001b[49m\u001b[43m)\u001b[49m\n\u001b[1;32m   1157\u001b[0m \u001b[38;5;28;01mreturn\u001b[39;00m left_keys, right_keys, join_names\n",
      "File \u001b[0;32m~/opt/anaconda3/envs/geo_env/lib/python3.10/site-packages/pandas/core/generic.py:1927\u001b[0m, in \u001b[0;36mNDFrame._drop_labels_or_levels\u001b[0;34m(self, keys, axis)\u001b[0m\n\u001b[1;32m   1925\u001b[0m     \u001b[38;5;66;03m# Handle dropping columns labels\u001b[39;00m\n\u001b[1;32m   1926\u001b[0m     \u001b[38;5;28;01mif\u001b[39;00m labels_to_drop:\n\u001b[0;32m-> 1927\u001b[0m         \u001b[43mdropped\u001b[49m\u001b[38;5;241;43m.\u001b[39;49m\u001b[43mdrop\u001b[49m\u001b[43m(\u001b[49m\u001b[43mlabels_to_drop\u001b[49m\u001b[43m,\u001b[49m\u001b[43m \u001b[49m\u001b[43maxis\u001b[49m\u001b[38;5;241;43m=\u001b[39;49m\u001b[38;5;241;43m1\u001b[39;49m\u001b[43m,\u001b[49m\u001b[43m \u001b[49m\u001b[43minplace\u001b[49m\u001b[38;5;241;43m=\u001b[39;49m\u001b[38;5;28;43;01mTrue\u001b[39;49;00m\u001b[43m)\u001b[49m\n\u001b[1;32m   1928\u001b[0m \u001b[38;5;28;01melse\u001b[39;00m:\n\u001b[1;32m   1929\u001b[0m     \u001b[38;5;66;03m# Handle dropping column levels\u001b[39;00m\n\u001b[1;32m   1930\u001b[0m     \u001b[38;5;28;01mif\u001b[39;00m levels_to_drop:\n",
      "File \u001b[0;32m~/opt/anaconda3/envs/geo_env/lib/python3.10/site-packages/pandas/util/_decorators.py:311\u001b[0m, in \u001b[0;36mdeprecate_nonkeyword_arguments.<locals>.decorate.<locals>.wrapper\u001b[0;34m(*args, **kwargs)\u001b[0m\n\u001b[1;32m    305\u001b[0m \u001b[38;5;28;01mif\u001b[39;00m \u001b[38;5;28mlen\u001b[39m(args) \u001b[38;5;241m>\u001b[39m num_allow_args:\n\u001b[1;32m    306\u001b[0m     warnings\u001b[38;5;241m.\u001b[39mwarn(\n\u001b[1;32m    307\u001b[0m         msg\u001b[38;5;241m.\u001b[39mformat(arguments\u001b[38;5;241m=\u001b[39marguments),\n\u001b[1;32m    308\u001b[0m         \u001b[38;5;167;01mFutureWarning\u001b[39;00m,\n\u001b[1;32m    309\u001b[0m         stacklevel\u001b[38;5;241m=\u001b[39mstacklevel,\n\u001b[1;32m    310\u001b[0m     )\n\u001b[0;32m--> 311\u001b[0m \u001b[38;5;28;01mreturn\u001b[39;00m \u001b[43mfunc\u001b[49m\u001b[43m(\u001b[49m\u001b[38;5;241;43m*\u001b[39;49m\u001b[43margs\u001b[49m\u001b[43m,\u001b[49m\u001b[43m \u001b[49m\u001b[38;5;241;43m*\u001b[39;49m\u001b[38;5;241;43m*\u001b[39;49m\u001b[43mkwargs\u001b[49m\u001b[43m)\u001b[49m\n",
      "File \u001b[0;32m~/opt/anaconda3/envs/geo_env/lib/python3.10/site-packages/pandas/core/frame.py:4948\u001b[0m, in \u001b[0;36mDataFrame.drop\u001b[0;34m(self, labels, axis, index, columns, level, inplace, errors)\u001b[0m\n\u001b[1;32m   4800\u001b[0m \u001b[38;5;129m@deprecate_nonkeyword_arguments\u001b[39m(version\u001b[38;5;241m=\u001b[39m\u001b[38;5;28;01mNone\u001b[39;00m, allowed_args\u001b[38;5;241m=\u001b[39m[\u001b[38;5;124m\"\u001b[39m\u001b[38;5;124mself\u001b[39m\u001b[38;5;124m\"\u001b[39m, \u001b[38;5;124m\"\u001b[39m\u001b[38;5;124mlabels\u001b[39m\u001b[38;5;124m\"\u001b[39m])\n\u001b[1;32m   4801\u001b[0m \u001b[38;5;28;01mdef\u001b[39;00m \u001b[38;5;21mdrop\u001b[39m(\n\u001b[1;32m   4802\u001b[0m     \u001b[38;5;28mself\u001b[39m,\n\u001b[0;32m   (...)\u001b[0m\n\u001b[1;32m   4809\u001b[0m     errors: \u001b[38;5;28mstr\u001b[39m \u001b[38;5;241m=\u001b[39m \u001b[38;5;124m\"\u001b[39m\u001b[38;5;124mraise\u001b[39m\u001b[38;5;124m\"\u001b[39m,\n\u001b[1;32m   4810\u001b[0m ):\n\u001b[1;32m   4811\u001b[0m     \u001b[38;5;124;03m\"\"\"\u001b[39;00m\n\u001b[1;32m   4812\u001b[0m \u001b[38;5;124;03m    Drop specified labels from rows or columns.\u001b[39;00m\n\u001b[1;32m   4813\u001b[0m \n\u001b[0;32m   (...)\u001b[0m\n\u001b[1;32m   4946\u001b[0m \u001b[38;5;124;03m            weight  1.0     0.8\u001b[39;00m\n\u001b[1;32m   4947\u001b[0m \u001b[38;5;124;03m    \"\"\"\u001b[39;00m\n\u001b[0;32m-> 4948\u001b[0m     \u001b[38;5;28;01mreturn\u001b[39;00m \u001b[38;5;28;43msuper\u001b[39;49m\u001b[43m(\u001b[49m\u001b[43m)\u001b[49m\u001b[38;5;241;43m.\u001b[39;49m\u001b[43mdrop\u001b[49m\u001b[43m(\u001b[49m\n\u001b[1;32m   4949\u001b[0m \u001b[43m        \u001b[49m\u001b[43mlabels\u001b[49m\u001b[38;5;241;43m=\u001b[39;49m\u001b[43mlabels\u001b[49m\u001b[43m,\u001b[49m\n\u001b[1;32m   4950\u001b[0m \u001b[43m        \u001b[49m\u001b[43maxis\u001b[49m\u001b[38;5;241;43m=\u001b[39;49m\u001b[43maxis\u001b[49m\u001b[43m,\u001b[49m\n\u001b[1;32m   4951\u001b[0m \u001b[43m        \u001b[49m\u001b[43mindex\u001b[49m\u001b[38;5;241;43m=\u001b[39;49m\u001b[43mindex\u001b[49m\u001b[43m,\u001b[49m\n\u001b[1;32m   4952\u001b[0m \u001b[43m        \u001b[49m\u001b[43mcolumns\u001b[49m\u001b[38;5;241;43m=\u001b[39;49m\u001b[43mcolumns\u001b[49m\u001b[43m,\u001b[49m\n\u001b[1;32m   4953\u001b[0m \u001b[43m        \u001b[49m\u001b[43mlevel\u001b[49m\u001b[38;5;241;43m=\u001b[39;49m\u001b[43mlevel\u001b[49m\u001b[43m,\u001b[49m\n\u001b[1;32m   4954\u001b[0m \u001b[43m        \u001b[49m\u001b[43minplace\u001b[49m\u001b[38;5;241;43m=\u001b[39;49m\u001b[43minplace\u001b[49m\u001b[43m,\u001b[49m\n\u001b[1;32m   4955\u001b[0m \u001b[43m        \u001b[49m\u001b[43merrors\u001b[49m\u001b[38;5;241;43m=\u001b[39;49m\u001b[43merrors\u001b[49m\u001b[43m,\u001b[49m\n\u001b[1;32m   4956\u001b[0m \u001b[43m    \u001b[49m\u001b[43m)\u001b[49m\n",
      "File \u001b[0;32m~/opt/anaconda3/envs/geo_env/lib/python3.10/site-packages/pandas/core/generic.py:4279\u001b[0m, in \u001b[0;36mNDFrame.drop\u001b[0;34m(self, labels, axis, index, columns, level, inplace, errors)\u001b[0m\n\u001b[1;32m   4277\u001b[0m \u001b[38;5;28;01mfor\u001b[39;00m axis, labels \u001b[38;5;129;01min\u001b[39;00m axes\u001b[38;5;241m.\u001b[39mitems():\n\u001b[1;32m   4278\u001b[0m     \u001b[38;5;28;01mif\u001b[39;00m labels \u001b[38;5;129;01mis\u001b[39;00m \u001b[38;5;129;01mnot\u001b[39;00m \u001b[38;5;28;01mNone\u001b[39;00m:\n\u001b[0;32m-> 4279\u001b[0m         obj \u001b[38;5;241m=\u001b[39m \u001b[43mobj\u001b[49m\u001b[38;5;241;43m.\u001b[39;49m\u001b[43m_drop_axis\u001b[49m\u001b[43m(\u001b[49m\u001b[43mlabels\u001b[49m\u001b[43m,\u001b[49m\u001b[43m \u001b[49m\u001b[43maxis\u001b[49m\u001b[43m,\u001b[49m\u001b[43m \u001b[49m\u001b[43mlevel\u001b[49m\u001b[38;5;241;43m=\u001b[39;49m\u001b[43mlevel\u001b[49m\u001b[43m,\u001b[49m\u001b[43m \u001b[49m\u001b[43merrors\u001b[49m\u001b[38;5;241;43m=\u001b[39;49m\u001b[43merrors\u001b[49m\u001b[43m)\u001b[49m\n\u001b[1;32m   4281\u001b[0m \u001b[38;5;28;01mif\u001b[39;00m inplace:\n\u001b[1;32m   4282\u001b[0m     \u001b[38;5;28mself\u001b[39m\u001b[38;5;241m.\u001b[39m_update_inplace(obj)\n",
      "File \u001b[0;32m~/opt/anaconda3/envs/geo_env/lib/python3.10/site-packages/pandas/core/generic.py:4323\u001b[0m, in \u001b[0;36mNDFrame._drop_axis\u001b[0;34m(self, labels, axis, level, errors, consolidate, only_slice)\u001b[0m\n\u001b[1;32m   4321\u001b[0m         new_axis \u001b[38;5;241m=\u001b[39m axis\u001b[38;5;241m.\u001b[39mdrop(labels, level\u001b[38;5;241m=\u001b[39mlevel, errors\u001b[38;5;241m=\u001b[39merrors)\n\u001b[1;32m   4322\u001b[0m     \u001b[38;5;28;01melse\u001b[39;00m:\n\u001b[0;32m-> 4323\u001b[0m         new_axis \u001b[38;5;241m=\u001b[39m \u001b[43maxis\u001b[49m\u001b[38;5;241;43m.\u001b[39;49m\u001b[43mdrop\u001b[49m\u001b[43m(\u001b[49m\u001b[43mlabels\u001b[49m\u001b[43m,\u001b[49m\u001b[43m \u001b[49m\u001b[43merrors\u001b[49m\u001b[38;5;241;43m=\u001b[39;49m\u001b[43merrors\u001b[49m\u001b[43m)\u001b[49m\n\u001b[1;32m   4324\u001b[0m     indexer \u001b[38;5;241m=\u001b[39m axis\u001b[38;5;241m.\u001b[39mget_indexer(new_axis)\n\u001b[1;32m   4326\u001b[0m \u001b[38;5;66;03m# Case for non-unique axis\u001b[39;00m\n\u001b[1;32m   4327\u001b[0m \u001b[38;5;28;01melse\u001b[39;00m:\n",
      "File \u001b[0;32m~/opt/anaconda3/envs/geo_env/lib/python3.10/site-packages/pandas/core/indexes/base.py:6640\u001b[0m, in \u001b[0;36mIndex.drop\u001b[0;34m(self, labels, errors)\u001b[0m\n\u001b[1;32m   6637\u001b[0m     arr_dtype \u001b[38;5;241m=\u001b[39m \u001b[38;5;124m\"\u001b[39m\u001b[38;5;124mobject\u001b[39m\u001b[38;5;124m\"\u001b[39m \u001b[38;5;28;01mif\u001b[39;00m \u001b[38;5;28mself\u001b[39m\u001b[38;5;241m.\u001b[39mdtype \u001b[38;5;241m==\u001b[39m \u001b[38;5;124m\"\u001b[39m\u001b[38;5;124mobject\u001b[39m\u001b[38;5;124m\"\u001b[39m \u001b[38;5;28;01melse\u001b[39;00m \u001b[38;5;28;01mNone\u001b[39;00m\n\u001b[1;32m   6638\u001b[0m     labels \u001b[38;5;241m=\u001b[39m com\u001b[38;5;241m.\u001b[39mindex_labels_to_array(labels, dtype\u001b[38;5;241m=\u001b[39marr_dtype)\n\u001b[0;32m-> 6640\u001b[0m indexer \u001b[38;5;241m=\u001b[39m \u001b[38;5;28;43mself\u001b[39;49m\u001b[38;5;241;43m.\u001b[39;49m\u001b[43mget_indexer_for\u001b[49m\u001b[43m(\u001b[49m\u001b[43mlabels\u001b[49m\u001b[43m)\u001b[49m\n\u001b[1;32m   6641\u001b[0m mask \u001b[38;5;241m=\u001b[39m indexer \u001b[38;5;241m==\u001b[39m \u001b[38;5;241m-\u001b[39m\u001b[38;5;241m1\u001b[39m\n\u001b[1;32m   6642\u001b[0m \u001b[38;5;28;01mif\u001b[39;00m mask\u001b[38;5;241m.\u001b[39many():\n",
      "File \u001b[0;32m~/opt/anaconda3/envs/geo_env/lib/python3.10/site-packages/pandas/core/indexes/base.py:5764\u001b[0m, in \u001b[0;36mIndex.get_indexer_for\u001b[0;34m(self, target)\u001b[0m\n\u001b[1;32m   5746\u001b[0m \u001b[38;5;124;03m\"\"\"\u001b[39;00m\n\u001b[1;32m   5747\u001b[0m \u001b[38;5;124;03mGuaranteed return of an indexer even when non-unique.\u001b[39;00m\n\u001b[1;32m   5748\u001b[0m \n\u001b[0;32m   (...)\u001b[0m\n\u001b[1;32m   5761\u001b[0m \u001b[38;5;124;03marray([0, 2])\u001b[39;00m\n\u001b[1;32m   5762\u001b[0m \u001b[38;5;124;03m\"\"\"\u001b[39;00m\n\u001b[1;32m   5763\u001b[0m \u001b[38;5;28;01mif\u001b[39;00m \u001b[38;5;28mself\u001b[39m\u001b[38;5;241m.\u001b[39m_index_as_unique:\n\u001b[0;32m-> 5764\u001b[0m     \u001b[38;5;28;01mreturn\u001b[39;00m \u001b[38;5;28;43mself\u001b[39;49m\u001b[38;5;241;43m.\u001b[39;49m\u001b[43mget_indexer\u001b[49m\u001b[43m(\u001b[49m\u001b[43mtarget\u001b[49m\u001b[43m)\u001b[49m\n\u001b[1;32m   5765\u001b[0m indexer, _ \u001b[38;5;241m=\u001b[39m \u001b[38;5;28mself\u001b[39m\u001b[38;5;241m.\u001b[39mget_indexer_non_unique(target)\n\u001b[1;32m   5766\u001b[0m \u001b[38;5;28;01mreturn\u001b[39;00m indexer\n",
      "File \u001b[0;32m~/opt/anaconda3/envs/geo_env/lib/python3.10/site-packages/pandas/core/indexes/base.py:3716\u001b[0m, in \u001b[0;36mIndex.get_indexer\u001b[0;34m(self, target, method, limit, tolerance)\u001b[0m\n\u001b[1;32m   3706\u001b[0m \u001b[38;5;129m@Appender\u001b[39m(_index_shared_docs[\u001b[38;5;124m\"\u001b[39m\u001b[38;5;124mget_indexer\u001b[39m\u001b[38;5;124m\"\u001b[39m] \u001b[38;5;241m%\u001b[39m _index_doc_kwargs)\n\u001b[1;32m   3707\u001b[0m \u001b[38;5;129m@final\u001b[39m\n\u001b[1;32m   3708\u001b[0m \u001b[38;5;28;01mdef\u001b[39;00m \u001b[38;5;21mget_indexer\u001b[39m(\n\u001b[0;32m   (...)\u001b[0m\n\u001b[1;32m   3713\u001b[0m     tolerance\u001b[38;5;241m=\u001b[39m\u001b[38;5;28;01mNone\u001b[39;00m,\n\u001b[1;32m   3714\u001b[0m ) \u001b[38;5;241m-\u001b[39m\u001b[38;5;241m>\u001b[39m npt\u001b[38;5;241m.\u001b[39mNDArray[np\u001b[38;5;241m.\u001b[39mintp]:\n\u001b[1;32m   3715\u001b[0m     method \u001b[38;5;241m=\u001b[39m missing\u001b[38;5;241m.\u001b[39mclean_reindex_fill_method(method)\n\u001b[0;32m-> 3716\u001b[0m     target \u001b[38;5;241m=\u001b[39m \u001b[38;5;28;43mself\u001b[39;49m\u001b[38;5;241;43m.\u001b[39;49m\u001b[43m_maybe_cast_listlike_indexer\u001b[49m\u001b[43m(\u001b[49m\u001b[43mtarget\u001b[49m\u001b[43m)\u001b[49m\n\u001b[1;32m   3718\u001b[0m     \u001b[38;5;28mself\u001b[39m\u001b[38;5;241m.\u001b[39m_check_indexing_method(method, limit, tolerance)\n\u001b[1;32m   3720\u001b[0m     \u001b[38;5;28;01mif\u001b[39;00m \u001b[38;5;129;01mnot\u001b[39;00m \u001b[38;5;28mself\u001b[39m\u001b[38;5;241m.\u001b[39m_index_as_unique:\n",
      "File \u001b[0;32m~/opt/anaconda3/envs/geo_env/lib/python3.10/site-packages/pandas/core/indexes/base.py:6297\u001b[0m, in \u001b[0;36mIndex._maybe_cast_listlike_indexer\u001b[0;34m(self, target)\u001b[0m\n\u001b[1;32m   6293\u001b[0m \u001b[38;5;28;01mdef\u001b[39;00m \u001b[38;5;21m_maybe_cast_listlike_indexer\u001b[39m(\u001b[38;5;28mself\u001b[39m, target) \u001b[38;5;241m-\u001b[39m\u001b[38;5;241m>\u001b[39m Index:\n\u001b[1;32m   6294\u001b[0m     \u001b[38;5;124;03m\"\"\"\u001b[39;00m\n\u001b[1;32m   6295\u001b[0m \u001b[38;5;124;03m    Analogue to maybe_cast_indexer for get_indexer instead of get_loc.\u001b[39;00m\n\u001b[1;32m   6296\u001b[0m \u001b[38;5;124;03m    \"\"\"\u001b[39;00m\n\u001b[0;32m-> 6297\u001b[0m     \u001b[38;5;28;01mreturn\u001b[39;00m \u001b[43mensure_index\u001b[49m\u001b[43m(\u001b[49m\u001b[43mtarget\u001b[49m\u001b[43m)\u001b[49m\n",
      "File \u001b[0;32m~/opt/anaconda3/envs/geo_env/lib/python3.10/site-packages/pandas/core/indexes/base.py:7043\u001b[0m, in \u001b[0;36mensure_index\u001b[0;34m(index_like, copy)\u001b[0m\n\u001b[1;32m   7041\u001b[0m         \u001b[38;5;28;01mreturn\u001b[39;00m Index\u001b[38;5;241m.\u001b[39m_with_infer(index_like, copy\u001b[38;5;241m=\u001b[39mcopy, tupleize_cols\u001b[38;5;241m=\u001b[39m\u001b[38;5;28;01mFalse\u001b[39;00m)\n\u001b[1;32m   7042\u001b[0m \u001b[38;5;28;01melse\u001b[39;00m:\n\u001b[0;32m-> 7043\u001b[0m     \u001b[38;5;28;01mreturn\u001b[39;00m \u001b[43mIndex\u001b[49m\u001b[38;5;241;43m.\u001b[39;49m\u001b[43m_with_infer\u001b[49m\u001b[43m(\u001b[49m\u001b[43mindex_like\u001b[49m\u001b[43m,\u001b[49m\u001b[43m \u001b[49m\u001b[43mcopy\u001b[49m\u001b[38;5;241;43m=\u001b[39;49m\u001b[43mcopy\u001b[49m\u001b[43m)\u001b[49m\n",
      "File \u001b[0;32m~/opt/anaconda3/envs/geo_env/lib/python3.10/site-packages/pandas/core/indexes/base.py:680\u001b[0m, in \u001b[0;36mIndex._with_infer\u001b[0;34m(cls, *args, **kwargs)\u001b[0m\n\u001b[1;32m    678\u001b[0m \u001b[38;5;28;01mwith\u001b[39;00m warnings\u001b[38;5;241m.\u001b[39mcatch_warnings():\n\u001b[1;32m    679\u001b[0m     warnings\u001b[38;5;241m.\u001b[39mfilterwarnings(\u001b[38;5;124m\"\u001b[39m\u001b[38;5;124mignore\u001b[39m\u001b[38;5;124m\"\u001b[39m, \u001b[38;5;124m\"\u001b[39m\u001b[38;5;124m.*the Index constructor\u001b[39m\u001b[38;5;124m\"\u001b[39m, \u001b[38;5;167;01mFutureWarning\u001b[39;00m)\n\u001b[0;32m--> 680\u001b[0m     result \u001b[38;5;241m=\u001b[39m \u001b[38;5;28;43mcls\u001b[39;49m\u001b[43m(\u001b[49m\u001b[38;5;241;43m*\u001b[39;49m\u001b[43margs\u001b[49m\u001b[43m,\u001b[49m\u001b[43m \u001b[49m\u001b[38;5;241;43m*\u001b[39;49m\u001b[38;5;241;43m*\u001b[39;49m\u001b[43mkwargs\u001b[49m\u001b[43m)\u001b[49m\n\u001b[1;32m    682\u001b[0m \u001b[38;5;28;01mif\u001b[39;00m result\u001b[38;5;241m.\u001b[39mdtype \u001b[38;5;241m==\u001b[39m _dtype_obj \u001b[38;5;129;01mand\u001b[39;00m \u001b[38;5;129;01mnot\u001b[39;00m result\u001b[38;5;241m.\u001b[39m_is_multi:\n\u001b[1;32m    683\u001b[0m     \u001b[38;5;66;03m# error: Argument 1 to \"maybe_convert_objects\" has incompatible type\u001b[39;00m\n\u001b[1;32m    684\u001b[0m     \u001b[38;5;66;03m# \"Union[ExtensionArray, ndarray[Any, Any]]\"; expected\u001b[39;00m\n\u001b[1;32m    685\u001b[0m     \u001b[38;5;66;03m# \"ndarray[Any, Any]\"\u001b[39;00m\n\u001b[1;32m    686\u001b[0m     values \u001b[38;5;241m=\u001b[39m lib\u001b[38;5;241m.\u001b[39mmaybe_convert_objects(result\u001b[38;5;241m.\u001b[39m_values)  \u001b[38;5;66;03m# type: ignore[arg-type]\u001b[39;00m\n",
      "File \u001b[0;32m~/opt/anaconda3/envs/geo_env/lib/python3.10/site-packages/pandas/core/indexes/base.py:494\u001b[0m, in \u001b[0;36mIndex.__new__\u001b[0;34m(cls, data, dtype, copy, name, tupleize_cols, **kwargs)\u001b[0m\n\u001b[1;32m    491\u001b[0m arr \u001b[38;5;241m=\u001b[39m com\u001b[38;5;241m.\u001b[39masarray_tuplesafe(data, dtype\u001b[38;5;241m=\u001b[39m_dtype_obj)\n\u001b[1;32m    493\u001b[0m \u001b[38;5;28;01mif\u001b[39;00m dtype \u001b[38;5;129;01mis\u001b[39;00m \u001b[38;5;28;01mNone\u001b[39;00m:\n\u001b[0;32m--> 494\u001b[0m     arr \u001b[38;5;241m=\u001b[39m \u001b[43m_maybe_cast_data_without_dtype\u001b[49m\u001b[43m(\u001b[49m\n\u001b[1;32m    495\u001b[0m \u001b[43m        \u001b[49m\u001b[43marr\u001b[49m\u001b[43m,\u001b[49m\u001b[43m \u001b[49m\u001b[43mcast_numeric_deprecated\u001b[49m\u001b[38;5;241;43m=\u001b[39;49m\u001b[38;5;28;43;01mTrue\u001b[39;49;00m\n\u001b[1;32m    496\u001b[0m \u001b[43m    \u001b[49m\u001b[43m)\u001b[49m\n\u001b[1;32m    497\u001b[0m     dtype \u001b[38;5;241m=\u001b[39m arr\u001b[38;5;241m.\u001b[39mdtype\n\u001b[1;32m    499\u001b[0m     \u001b[38;5;28;01mif\u001b[39;00m kwargs:\n",
      "File \u001b[0;32m~/opt/anaconda3/envs/geo_env/lib/python3.10/site-packages/pandas/core/indexes/base.py:7124\u001b[0m, in \u001b[0;36m_maybe_cast_data_without_dtype\u001b[0;34m(subarr, cast_numeric_deprecated)\u001b[0m\n\u001b[1;32m   7106\u001b[0m \u001b[38;5;28;01mdef\u001b[39;00m \u001b[38;5;21m_maybe_cast_data_without_dtype\u001b[39m(\n\u001b[1;32m   7107\u001b[0m     subarr: np\u001b[38;5;241m.\u001b[39mndarray, cast_numeric_deprecated: \u001b[38;5;28mbool\u001b[39m \u001b[38;5;241m=\u001b[39m \u001b[38;5;28;01mTrue\u001b[39;00m\n\u001b[1;32m   7108\u001b[0m ) \u001b[38;5;241m-\u001b[39m\u001b[38;5;241m>\u001b[39m ArrayLike:\n\u001b[1;32m   7109\u001b[0m     \u001b[38;5;124;03m\"\"\"\u001b[39;00m\n\u001b[1;32m   7110\u001b[0m \u001b[38;5;124;03m    If we have an arraylike input but no passed dtype, try to infer\u001b[39;00m\n\u001b[1;32m   7111\u001b[0m \u001b[38;5;124;03m    a supported dtype.\u001b[39;00m\n\u001b[0;32m   (...)\u001b[0m\n\u001b[1;32m   7121\u001b[0m \u001b[38;5;124;03m    np.ndarray or ExtensionArray\u001b[39;00m\n\u001b[1;32m   7122\u001b[0m \u001b[38;5;124;03m    \"\"\"\u001b[39;00m\n\u001b[0;32m-> 7124\u001b[0m     result \u001b[38;5;241m=\u001b[39m \u001b[43mlib\u001b[49m\u001b[38;5;241;43m.\u001b[39;49m\u001b[43mmaybe_convert_objects\u001b[49m\u001b[43m(\u001b[49m\n\u001b[1;32m   7125\u001b[0m \u001b[43m        \u001b[49m\u001b[43msubarr\u001b[49m\u001b[43m,\u001b[49m\n\u001b[1;32m   7126\u001b[0m \u001b[43m        \u001b[49m\u001b[43mconvert_datetime\u001b[49m\u001b[38;5;241;43m=\u001b[39;49m\u001b[38;5;28;43;01mTrue\u001b[39;49;00m\u001b[43m,\u001b[49m\n\u001b[1;32m   7127\u001b[0m \u001b[43m        \u001b[49m\u001b[43mconvert_timedelta\u001b[49m\u001b[38;5;241;43m=\u001b[39;49m\u001b[38;5;28;43;01mTrue\u001b[39;49;00m\u001b[43m,\u001b[49m\n\u001b[1;32m   7128\u001b[0m \u001b[43m        \u001b[49m\u001b[43mconvert_period\u001b[49m\u001b[38;5;241;43m=\u001b[39;49m\u001b[38;5;28;43;01mTrue\u001b[39;49;00m\u001b[43m,\u001b[49m\n\u001b[1;32m   7129\u001b[0m \u001b[43m        \u001b[49m\u001b[43mconvert_interval\u001b[49m\u001b[38;5;241;43m=\u001b[39;49m\u001b[38;5;28;43;01mTrue\u001b[39;49;00m\u001b[43m,\u001b[49m\n\u001b[1;32m   7130\u001b[0m \u001b[43m        \u001b[49m\u001b[43mdtype_if_all_nat\u001b[49m\u001b[38;5;241;43m=\u001b[39;49m\u001b[43mnp\u001b[49m\u001b[38;5;241;43m.\u001b[39;49m\u001b[43mdtype\u001b[49m\u001b[43m(\u001b[49m\u001b[38;5;124;43m\"\u001b[39;49m\u001b[38;5;124;43mdatetime64[ns]\u001b[39;49m\u001b[38;5;124;43m\"\u001b[39;49m\u001b[43m)\u001b[49m\u001b[43m,\u001b[49m\n\u001b[1;32m   7131\u001b[0m \u001b[43m    \u001b[49m\u001b[43m)\u001b[49m\n\u001b[1;32m   7132\u001b[0m     \u001b[38;5;28;01mif\u001b[39;00m result\u001b[38;5;241m.\u001b[39mdtype\u001b[38;5;241m.\u001b[39mkind \u001b[38;5;129;01min\u001b[39;00m [\u001b[38;5;124m\"\u001b[39m\u001b[38;5;124mi\u001b[39m\u001b[38;5;124m\"\u001b[39m, \u001b[38;5;124m\"\u001b[39m\u001b[38;5;124mu\u001b[39m\u001b[38;5;124m\"\u001b[39m, \u001b[38;5;124m\"\u001b[39m\u001b[38;5;124mf\u001b[39m\u001b[38;5;124m\"\u001b[39m]:\n\u001b[1;32m   7133\u001b[0m         \u001b[38;5;28;01mif\u001b[39;00m \u001b[38;5;129;01mnot\u001b[39;00m cast_numeric_deprecated:\n\u001b[1;32m   7134\u001b[0m             \u001b[38;5;66;03m# i.e. we started with a list, not an ndarray[object]\u001b[39;00m\n",
      "\u001b[0;31mKeyboardInterrupt\u001b[0m: "
     ]
    }
   ],
   "source": [
    "#everything = going.copy()\n",
    "print(f\"Starting with {len(everything)//24} beacons remaining from {len(everything['scanner'].unique())} scanners\")\n",
    "while len(everything['scanner'].unique())!=1:\n",
    "    print('Wonder if we fail')\n",
    "    winning = False\n",
    "    looping1 = weird#everything['scanner'].unique()[::-1]\n",
    "    for s1 in looping1:\n",
    "        looping2 = weird[::-1]#everything['scanner'].unique()\n",
    "        for s2 in looping2:\n",
    "            if s1 == s2:\n",
    "                continue\n",
    "\n",
    "            yourCentre = everything[((everything['scanner']==s2) & (everything['rot']==0))][['x','y','z']]        \n",
    "            for rot in everything['rot'].unique():\n",
    "\n",
    "                toBeCentred = everything[((everything['scanner']==s1) & (everything['rot']==rot))][['x','y','z']]\n",
    "\n",
    "                for centreBeacon1 in range(len(toBeCentred)):\n",
    "                    for centreBeacon2 in range(len(yourCentre)):\n",
    "\n",
    "                        altered = toBeCentred - toBeCentred.iloc[centreBeacon1] + yourCentre.iloc[centreBeacon2]\n",
    "                        same = pd.merge(altered, yourCentre, on=['x','y','z'], how='outer', indicator=True)\n",
    "                        \n",
    "                        if len(same[(same['_merge']=='both')]) >= 12:\n",
    "                            dd = []\n",
    "                            for r in same[(same['_merge']=='left_only')][['x','y','z']].iloc():\n",
    "                                newData = np.matmul(rotation,r)\n",
    "                                newData = newData.T\n",
    "\n",
    "                                for idx,nd in enumerate(newData):\n",
    "                                    x,y,z=nd\n",
    "                                    dd.append({\n",
    "                                            'rot':idx,\n",
    "                                            'x':x,\n",
    "                                            'y':y,\n",
    "                                            'z':z,\n",
    "                                            'scanner': s2})\n",
    "\n",
    "                            dd = pd.DataFrame(dd)\n",
    "\n",
    "                            everything = pd.concat([everything, dd])\n",
    "                            everything.reset_index(drop=True, inplace=True)\n",
    "                            everything.drop(everything[(everything['scanner']==s1)].index, inplace=True)\n",
    "                            everything.reset_index(drop=True, inplace=True)\n",
    "                            winning = True\n",
    "                            print(f\"Beacons from scanner {s1} centering on {centreBeacon1} with rotation {rot} match Scanner {s2} centering on {centreBeacon2} - {len(everything)//24} beacons remaining from {len(everything['scanner'].unique())} scanners\")\n",
    "                            break\n",
    "                    if winning:\n",
    "                        break\n",
    "                if winning:\n",
    "                    break\n",
    "            if winning:\n",
    "                break\n",
    "        if winning:\n",
    "            break"
   ]
  },
  {
   "cell_type": "code",
   "execution_count": null,
   "id": "d77d392b-4dc7-4092-9f86-8068ee3a302d",
   "metadata": {},
   "outputs": [],
   "source": [
    "everything[everything['rot']==0]"
   ]
  },
  {
   "cell_type": "code",
   "execution_count": null,
   "id": "8cd18b5c-a495-44cd-8675-02984019f8ed",
   "metadata": {},
   "outputs": [],
   "source": [
    "15 scanners left"
   ]
  },
  {
   "cell_type": "code",
   "execution_count": 215,
   "id": "264a5f0e-91cc-428b-be3a-8b9b63ba6595",
   "metadata": {},
   "outputs": [
    {
     "name": "stdout",
     "output_type": "stream",
     "text": [
      "21 624\n",
      "27 3624\n",
      "29 2232\n",
      "30 1896\n",
      "31 936\n",
      "32 2904\n",
      "33 936\n",
      "34 624\n",
      "35 960\n"
     ]
    }
   ],
   "source": [
    "for scanner,gbdf in everything.groupby('scanner'):\n",
    "    print(scanner, len(gbdf))"
   ]
  },
  {
   "cell_type": "code",
   "execution_count": null,
   "id": "278dd7a5-a765-4cf6-8e27-bb6a5d210c2c",
   "metadata": {},
   "outputs": [],
   "source": [
    "518 beaconds is too high!!!"
   ]
  },
  {
   "cell_type": "code",
   "execution_count": null,
   "id": "f783a895-3b4d-4f4d-92d4-3f54fa17e63c",
   "metadata": {},
   "outputs": [],
   "source": [
    "[34, 33, 31, 21, 35, 30, 29, 32, 27]"
   ]
  },
  {
   "cell_type": "code",
   "execution_count": 142,
   "id": "f9e6dff5-999e-4772-a1b5-304b3e87a8c4",
   "metadata": {},
   "outputs": [
    {
     "data": {
      "text/plain": [
       "13"
      ]
     },
     "execution_count": 142,
     "metadata": {},
     "output_type": "execute_result"
    }
   ],
   "source": []
  },
  {
   "cell_type": "code",
   "execution_count": null,
   "id": "fca0465c-407d-469b-97f7-a5050c74d2be",
   "metadata": {},
   "outputs": [],
   "source": []
  },
  {
   "cell_type": "code",
   "execution_count": null,
   "id": "819ba0bc-c58c-4e71-8467-b661ebb15d72",
   "metadata": {},
   "outputs": [],
   "source": []
  },
  {
   "cell_type": "code",
   "execution_count": null,
   "id": "f5c75f32-dbf5-40a4-be27-591b414f55b0",
   "metadata": {},
   "outputs": [],
   "source": [
    "keys = list(scan.keys())\n",
    "s1=scanners[0].copy()\n",
    "\n",
    "while len(keys) > 1:\n",
    "    keys = list(scan.keys())\n",
    "    print(len(keys))\n",
    "    winning = False\n",
    "    for b1 in range(len(s1))[:-11]:\n",
    "        for k2 in keys[1:]:\n",
    "            for s in scan[k2]:\n",
    "                for b2 in range(len(s)-11):\n",
    "                    temp = s - s[b2] + s1[b1]\n",
    "                    x = equal(s1,temp)\n",
    "                    if x >= 12:\n",
    "                        winning = True\n",
    "                        break\n",
    "                if winning:\n",
    "                    break\n",
    "            if winning:\n",
    "                break\n",
    "            #else:\n",
    "            #    print(f'\\tNot winning {b1} - {k2}')      \n",
    "        if winning:\n",
    "            break\n",
    "    if winning:\n",
    "        s1 = list(s1)\n",
    "        for s in temp:\n",
    "            if np.any(s == s1) == False:\n",
    "                s1.append(s)\n",
    "        s1 = np.array(s1)\n",
    "        print(f'\\tWinning {k2}')\n",
    "        del scan[k2]                    "
   ]
  },
  {
   "cell_type": "code",
   "execution_count": null,
   "id": "e1c4b9bf-994a-4b9d-81a7-2588ae47b29f",
   "metadata": {},
   "outputs": [],
   "source": [
    "def add_r(row):\n",
    "    for i,r in enumerate(rot):\n",
    "        row[f\"r{i}\"] = np.matmul(r,row['beacon']).astype(int)\n",
    "    return row\n",
    "    \n",
    "def align_r(row, align_to):\n",
    "    for a_idx, a in enumerate(align_to):\n",
    "        for r_idx,r in enumerate(rot):\n",
    "            row[f\"a{a_idx}r{r_idx}\"] = row[f\"r{r_idx}\"] + a\n",
    "    return row\n",
    "    \n",
    "d = []\n",
    "import pandas as pd\n",
    "for k,v in scanners.items():\n",
    "    for b in v:\n",
    "        d.append({\n",
    "            'scanner':k, \n",
    "            'beacon':b\n",
    "        })\n",
    "df = pd.DataFrame(d)\n",
    "\n",
    "\n",
    "df = df.apply(lambda x: add_r(x), axis = 1)\n",
    "align_to = df[(df['scanner']==0)]['beacon'].copy()\n",
    "\n",
    "df = df.apply(lambda x: align_r(x,align_to), axis = 1)\n",
    "\n",
    "for i,r in enumerate(rot):\n",
    "    df = df.drop(labels=f'r{i}',axis=1)\n",
    "df"
   ]
  },
  {
   "cell_type": "code",
   "execution_count": null,
   "id": "11aecc55-bed2-422d-8bef-9e8944e00814",
   "metadata": {},
   "outputs": [],
   "source": [
    "14+160+1400+160000"
   ]
  },
  {
   "cell_type": "code",
   "execution_count": null,
   "id": "7c3aa3df-28bb-4d47-8c78-61cc89c7ea9e",
   "metadata": {},
   "outputs": [],
   "source": [
    "merger = []\n",
    "for i in df['scanner'].unique():#range(2,37):\n",
    "    if i == 0:\n",
    "        continue\n",
    "    print(i)\n",
    "    for j in range(26):\n",
    "        for r in range(24):\n",
    "            p = df[(df['scanner']==i)][['beacon',f'a{j}r{r}']]\n",
    "            for q in range(len(p)):\n",
    "                x = np.array([i for i in p[f'a{j}r{r}']])-np.array([i for i in p['beacon'].loc[p.index[q]]])\n",
    "                y = pd.DataFrame([i for i in df[(df['scanner']==0)]['beacon'].to_numpy()])\n",
    "                z = np.array([ i for i in pd.concat([y, pd.DataFrame(x)]).to_numpy()[:,0]])\n",
    "                if z.size - np.unique(z,axis=0).size >= 12:\n",
    "                    merger.append((i,j,r,q))\n",
    "                    winning = True\n",
    "                    break\n",
    "            if winning:\n",
    "                break\n",
    "        if winning:\n",
    "            break"
   ]
  },
  {
   "cell_type": "code",
   "execution_count": null,
   "id": "7b1e6715-ff59-42ce-ba21-3e5bb919f172",
   "metadata": {},
   "outputs": [],
   "source": [
    "merger"
   ]
  },
  {
   "cell_type": "code",
   "execution_count": null,
   "id": "e2fdfb00-dfce-49a2-a20e-8f2537b64be1",
   "metadata": {},
   "outputs": [],
   "source": [
    "df['scanner'].unique()"
   ]
  },
  {
   "cell_type": "code",
   "execution_count": null,
   "id": "7d548e29-095f-4086-a253-622f4257e867",
   "metadata": {},
   "outputs": [],
   "source": []
  },
  {
   "cell_type": "code",
   "execution_count": null,
   "id": "af1495f8-073b-44d3-9828-d62dec5edd7e",
   "metadata": {},
   "outputs": [],
   "source": []
  },
  {
   "cell_type": "code",
   "execution_count": null,
   "id": "14703153-e927-413f-99b8-b4582fc4d0b4",
   "metadata": {},
   "outputs": [],
   "source": [
    " s - s[b2] + s1[b1]"
   ]
  },
  {
   "cell_type": "code",
   "execution_count": null,
   "id": "ca9bb95a-90e2-4475-9c92-b0fa98983d6b",
   "metadata": {},
   "outputs": [],
   "source": []
  },
  {
   "cell_type": "code",
   "execution_count": null,
   "id": "61fa6a2c-0769-425b-948b-b8c3db6e0aba",
   "metadata": {},
   "outputs": [],
   "source": []
  }
 ],
 "metadata": {
  "kernelspec": {
   "display_name": "geo_env",
   "language": "python",
   "name": "geo_env"
  },
  "language_info": {
   "codemirror_mode": {
    "name": "ipython",
    "version": 3
   },
   "file_extension": ".py",
   "mimetype": "text/x-python",
   "name": "python",
   "nbconvert_exporter": "python",
   "pygments_lexer": "ipython3",
   "version": "3.10.2"
  }
 },
 "nbformat": 4,
 "nbformat_minor": 5
}
