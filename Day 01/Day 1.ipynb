{
 "cells": [
  {
   "cell_type": "code",
   "execution_count": 1,
   "id": "2f3d0449",
   "metadata": {},
   "outputs": [
    {
     "data": {
      "text/html": [
       "<style>.container { width:90% !important; }</style>"
      ],
      "text/plain": [
       "<IPython.core.display.HTML object>"
      ]
     },
     "metadata": {},
     "output_type": "display_data"
    }
   ],
   "source": [
    "from IPython.core.display import display, HTML\n",
    "display(HTML(\"<style>.container { width:90% !important; }</style>\"))"
   ]
  },
  {
   "cell_type": "code",
   "execution_count": 1,
   "id": "996518f5",
   "metadata": {},
   "outputs": [
    {
     "name": "stdout",
     "output_type": "stream",
     "text": [
      "1226\n"
     ]
    }
   ],
   "source": [
    "#part 1\n",
    "\n",
    "data_file = './input.txt'\n",
    "with open(data_file, 'r') as file:\n",
    "    previous_value = 1e30  #Set to something huge\n",
    "    counter = 0\n",
    "    for line in file:\n",
    "        current_value = int(line)\n",
    "        if current_value > previous_value:\n",
    "            counter += 1\n",
    "        previous_value = current_value\n",
    "    print(counter)"
   ]
  },
  {
   "cell_type": "code",
   "execution_count": 16,
   "id": "1addc9cd",
   "metadata": {},
   "outputs": [
    {
     "name": "stdout",
     "output_type": "stream",
     "text": [
      "1252\n"
     ]
    }
   ],
   "source": [
    "#part 2\n",
    "data_file = './input.txt'\n",
    "with open(data_file, 'r') as file:\n",
    "    previous_list = [-999,-999,-999]\n",
    "    current_list = [-999,-999,-999]\n",
    "    counter = 0\n",
    "    for line in file:\n",
    "        val = int(line)\n",
    "        _ = current_list.pop(0)\n",
    "        current_list.append(val)\n",
    "        if -999 not in previous_list:\n",
    "            cl_sum = sum(current_list)\n",
    "            pl_sum = sum(previous_list)\n",
    "            if cl_sum > pl_sum:\n",
    "                counter +=1 \n",
    "            \n",
    "        _ = previous_list.pop(0)\n",
    "        previous_list.append(current_list[-1])\n",
    "    print(counter)"
   ]
  },
  {
   "cell_type": "code",
   "execution_count": null,
   "id": "5fd93a86",
   "metadata": {},
   "outputs": [],
   "source": []
  }
 ],
 "metadata": {
  "kernelspec": {
   "display_name": "Python 3 (ipykernel)",
   "language": "python",
   "name": "python3"
  },
  "language_info": {
   "codemirror_mode": {
    "name": "ipython",
    "version": 3
   },
   "file_extension": ".py",
   "mimetype": "text/x-python",
   "name": "python",
   "nbconvert_exporter": "python",
   "pygments_lexer": "ipython3",
   "version": "3.9.7"
  }
 },
 "nbformat": 4,
 "nbformat_minor": 5
}
