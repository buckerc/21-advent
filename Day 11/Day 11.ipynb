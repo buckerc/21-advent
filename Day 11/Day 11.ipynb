{
 "cells": [
  {
   "cell_type": "code",
   "execution_count": 4,
   "id": "3eda10a5",
   "metadata": {
    "scrolled": true
   },
   "outputs": [],
   "source": [
    "import numpy as np\n",
    "inputs = []\n",
    "with open('./input.txt', 'r') as file:\n",
    "    for line in file:\n",
    "        inputs.append([int(i) for i in line.strip()])\n",
    "        \n",
    "inputs = np.array(inputs)"
   ]
  },
  {
   "cell_type": "code",
   "execution_count": 5,
   "id": "09e75cea",
   "metadata": {},
   "outputs": [],
   "source": [
    "def flash(board, flashes, has_flashed):\n",
    "    release = np.argwhere(board > 9)\n",
    "    if len(release)==0:\n",
    "        return (board,flashes,has_flashed)    \n",
    "    for r in release:\n",
    "        x,y = r        \n",
    "        has_flashed[x,y] = 1\n",
    "        board[x,y] = 0\n",
    "        flashes = flashes + 1\n",
    "\n",
    "        for xx,yy in zip([x-1, x, x+1, x-1, x+1, x-1, x, x+1], [y-1,y-1,y-1,y,y,y+1,y+1,y+1]):\n",
    "            if xx < 0 or xx > 9 or yy < 0 or yy > 9:\n",
    "                continue\n",
    "            if has_flashed[xx,yy] == 0:\n",
    "                board[xx,yy] = board[xx,yy] + 1\n",
    "\n",
    "    return flash(board, flashes,has_flashed)"
   ]
  },
  {
   "cell_type": "code",
   "execution_count": 6,
   "id": "5cf242ea",
   "metadata": {},
   "outputs": [
    {
     "name": "stdout",
     "output_type": "stream",
     "text": [
      "1615\n"
     ]
    }
   ],
   "source": [
    "board = inputs\n",
    "flashes = 0\n",
    "for _ in range(100):\n",
    "    has_flashed = np.zeros((10,10))\n",
    "    board = board + 1\n",
    "    board, flashes,has_flashed = flash(board, flashes,has_flashed)\n",
    "\n",
    "print(flashes)"
   ]
  },
  {
   "cell_type": "code",
   "execution_count": 7,
   "id": "e04c8672",
   "metadata": {},
   "outputs": [
    {
     "name": "stdout",
     "output_type": "stream",
     "text": [
      "249\n"
     ]
    }
   ],
   "source": [
    "board = inputs\n",
    "flashes = 0\n",
    "counter = 0\n",
    "has_flashed = np.zeros((10,10))\n",
    "\n",
    "while(np.sum(has_flashed)!=100):\n",
    "    has_flashed = np.zeros((10,10))\n",
    "    board = board + 1\n",
    "    board, flashes,has_flashed = flash(board, flashes,has_flashed)\n",
    "    counter= counter+1\n",
    "\n",
    "print(counter)"
   ]
  },
  {
   "cell_type": "code",
   "execution_count": null,
   "id": "ffef75e0",
   "metadata": {},
   "outputs": [],
   "source": []
  },
  {
   "cell_type": "code",
   "execution_count": null,
   "id": "489de756",
   "metadata": {},
   "outputs": [],
   "source": []
  }
 ],
 "metadata": {
  "kernelspec": {
   "display_name": "Python 3 (ipykernel)",
   "language": "python",
   "name": "python3"
  },
  "language_info": {
   "codemirror_mode": {
    "name": "ipython",
    "version": 3
   },
   "file_extension": ".py",
   "mimetype": "text/x-python",
   "name": "python",
   "nbconvert_exporter": "python",
   "pygments_lexer": "ipython3",
   "version": "3.9.7"
  }
 },
 "nbformat": 4,
 "nbformat_minor": 5
}
