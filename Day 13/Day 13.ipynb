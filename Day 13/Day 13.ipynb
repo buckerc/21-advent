{
 "cells": [
  {
   "cell_type": "code",
   "execution_count": 1,
   "id": "1a0cd588-f81b-48c6-80c4-e86a8619f598",
   "metadata": {},
   "outputs": [],
   "source": [
    "import numpy as np\n",
    "dots = []\n",
    "folds =[]\n",
    "with open(\"./input.txt\", \"r\") as file:\n",
    "    now_fold = False\n",
    "    for line in file:\n",
    "            if line.strip() == '':\n",
    "                now_fold = True\n",
    "                continue\n",
    "            if now_fold:\n",
    "                folds.append(line.strip())\n",
    "            else:\n",
    "                dots.append([int(d) for d in line.strip().split(',')])\n",
    "dots = np.array(dots)\n",
    "temp = []\n",
    "for f in folds:\n",
    "    temp.append(f.split(' ')[-1].split('='))\n",
    "    temp[-1][1] = int(temp[-1][1])    \n",
    "folds = temp\n"
   ]
  },
  {
   "cell_type": "code",
   "execution_count": 2,
   "id": "2c677baf-9af8-44aa-a095-cd829193cbde",
   "metadata": {},
   "outputs": [
    {
     "data": {
      "text/plain": [
       "802"
      ]
     },
     "execution_count": 2,
     "metadata": {},
     "output_type": "execute_result"
    }
   ],
   "source": [
    "paper = np.zeros(np.max(dots,axis=0)+1).astype(int)\n",
    "\n",
    "for d in dots:\n",
    "    x,y=d\n",
    "    paper[x,y] = 1\n",
    "\n",
    "for f in folds:\n",
    "    if f[0] == 'x':\n",
    "        paper = (np.flip(paper,0)[:f[1],...] + paper[:f[1],...])\n",
    "        paper = paper[:f[1],:]\n",
    "\n",
    "    if f[0] == 'y':\n",
    "        paper = (np.flip(paper,1)[...,:f[1]] + paper[...,:f[1]])\n",
    "        paper = paper[:,:f[1]]\n",
    "    break\n",
    "    \n",
    "paper = np.where(paper>0,1,0)\n",
    "paper.sum()"
   ]
  },
  {
   "cell_type": "code",
   "execution_count": 3,
   "id": "ab632ace-bc2f-48d7-ab74-fdc9bc76d119",
   "metadata": {},
   "outputs": [
    {
     "name": "stdout",
     "output_type": "stream",
     "text": [
      "\u001b[0;30;43m#\u001b[0m\u001b[0;30;43m#\u001b[0m\u001b[0;30;43m#\u001b[0m\u001b[0;37;40m.\u001b[0m\u001b[0;37;40m.\u001b[0m\u001b[0;30;43m#\u001b[0m\u001b[0;37;40m.\u001b[0m\u001b[0;37;40m.\u001b[0m\u001b[0;30;43m#\u001b[0m\u001b[0;37;40m.\u001b[0m\u001b[0;30;43m#\u001b[0m\u001b[0;37;40m.\u001b[0m\u001b[0;37;40m.\u001b[0m\u001b[0;30;43m#\u001b[0m\u001b[0;37;40m.\u001b[0m\u001b[0;30;43m#\u001b[0m\u001b[0;30;43m#\u001b[0m\u001b[0;30;43m#\u001b[0m\u001b[0;30;43m#\u001b[0m\u001b[0;37;40m.\u001b[0m\u001b[0;30;43m#\u001b[0m\u001b[0;30;43m#\u001b[0m\u001b[0;30;43m#\u001b[0m\u001b[0;30;43m#\u001b[0m\u001b[0;37;40m.\u001b[0m\u001b[0;37;40m.\u001b[0m\u001b[0;30;43m#\u001b[0m\u001b[0;30;43m#\u001b[0m\u001b[0;37;40m.\u001b[0m\u001b[0;37;40m.\u001b[0m\u001b[0;30;43m#\u001b[0m\u001b[0;37;40m.\u001b[0m\u001b[0;37;40m.\u001b[0m\u001b[0;30;43m#\u001b[0m\u001b[0;37;40m.\u001b[0m\u001b[0;30;43m#\u001b[0m\u001b[0;30;43m#\u001b[0m\u001b[0;30;43m#\u001b[0m\u001b[0;37;40m.\u001b[0m\u001b[0;37;40m.\u001b[0m\n",
      "\u001b[0;30;43m#\u001b[0m\u001b[0;37;40m.\u001b[0m\u001b[0;37;40m.\u001b[0m\u001b[0;30;43m#\u001b[0m\u001b[0;37;40m.\u001b[0m\u001b[0;30;43m#\u001b[0m\u001b[0;37;40m.\u001b[0m\u001b[0;30;43m#\u001b[0m\u001b[0;37;40m.\u001b[0m\u001b[0;37;40m.\u001b[0m\u001b[0;30;43m#\u001b[0m\u001b[0;37;40m.\u001b[0m\u001b[0;37;40m.\u001b[0m\u001b[0;30;43m#\u001b[0m\u001b[0;37;40m.\u001b[0m\u001b[0;30;43m#\u001b[0m\u001b[0;37;40m.\u001b[0m\u001b[0;37;40m.\u001b[0m\u001b[0;37;40m.\u001b[0m\u001b[0;37;40m.\u001b[0m\u001b[0;37;40m.\u001b[0m\u001b[0;37;40m.\u001b[0m\u001b[0;37;40m.\u001b[0m\u001b[0;30;43m#\u001b[0m\u001b[0;37;40m.\u001b[0m\u001b[0;30;43m#\u001b[0m\u001b[0;37;40m.\u001b[0m\u001b[0;37;40m.\u001b[0m\u001b[0;30;43m#\u001b[0m\u001b[0;37;40m.\u001b[0m\u001b[0;30;43m#\u001b[0m\u001b[0;37;40m.\u001b[0m\u001b[0;37;40m.\u001b[0m\u001b[0;30;43m#\u001b[0m\u001b[0;37;40m.\u001b[0m\u001b[0;30;43m#\u001b[0m\u001b[0;37;40m.\u001b[0m\u001b[0;37;40m.\u001b[0m\u001b[0;30;43m#\u001b[0m\u001b[0;37;40m.\u001b[0m\n",
      "\u001b[0;30;43m#\u001b[0m\u001b[0;37;40m.\u001b[0m\u001b[0;37;40m.\u001b[0m\u001b[0;30;43m#\u001b[0m\u001b[0;37;40m.\u001b[0m\u001b[0;30;43m#\u001b[0m\u001b[0;30;43m#\u001b[0m\u001b[0;37;40m.\u001b[0m\u001b[0;37;40m.\u001b[0m\u001b[0;37;40m.\u001b[0m\u001b[0;30;43m#\u001b[0m\u001b[0;30;43m#\u001b[0m\u001b[0;30;43m#\u001b[0m\u001b[0;30;43m#\u001b[0m\u001b[0;37;40m.\u001b[0m\u001b[0;30;43m#\u001b[0m\u001b[0;30;43m#\u001b[0m\u001b[0;30;43m#\u001b[0m\u001b[0;37;40m.\u001b[0m\u001b[0;37;40m.\u001b[0m\u001b[0;37;40m.\u001b[0m\u001b[0;37;40m.\u001b[0m\u001b[0;30;43m#\u001b[0m\u001b[0;37;40m.\u001b[0m\u001b[0;37;40m.\u001b[0m\u001b[0;30;43m#\u001b[0m\u001b[0;37;40m.\u001b[0m\u001b[0;37;40m.\u001b[0m\u001b[0;37;40m.\u001b[0m\u001b[0;37;40m.\u001b[0m\u001b[0;30;43m#\u001b[0m\u001b[0;37;40m.\u001b[0m\u001b[0;37;40m.\u001b[0m\u001b[0;30;43m#\u001b[0m\u001b[0;37;40m.\u001b[0m\u001b[0;30;43m#\u001b[0m\u001b[0;30;43m#\u001b[0m\u001b[0;30;43m#\u001b[0m\u001b[0;37;40m.\u001b[0m\u001b[0;37;40m.\u001b[0m\n",
      "\u001b[0;30;43m#\u001b[0m\u001b[0;30;43m#\u001b[0m\u001b[0;30;43m#\u001b[0m\u001b[0;37;40m.\u001b[0m\u001b[0;37;40m.\u001b[0m\u001b[0;30;43m#\u001b[0m\u001b[0;37;40m.\u001b[0m\u001b[0;30;43m#\u001b[0m\u001b[0;37;40m.\u001b[0m\u001b[0;37;40m.\u001b[0m\u001b[0;30;43m#\u001b[0m\u001b[0;37;40m.\u001b[0m\u001b[0;37;40m.\u001b[0m\u001b[0;30;43m#\u001b[0m\u001b[0;37;40m.\u001b[0m\u001b[0;30;43m#\u001b[0m\u001b[0;37;40m.\u001b[0m\u001b[0;37;40m.\u001b[0m\u001b[0;37;40m.\u001b[0m\u001b[0;37;40m.\u001b[0m\u001b[0;37;40m.\u001b[0m\u001b[0;30;43m#\u001b[0m\u001b[0;37;40m.\u001b[0m\u001b[0;37;40m.\u001b[0m\u001b[0;37;40m.\u001b[0m\u001b[0;30;43m#\u001b[0m\u001b[0;37;40m.\u001b[0m\u001b[0;30;43m#\u001b[0m\u001b[0;30;43m#\u001b[0m\u001b[0;37;40m.\u001b[0m\u001b[0;30;43m#\u001b[0m\u001b[0;37;40m.\u001b[0m\u001b[0;37;40m.\u001b[0m\u001b[0;30;43m#\u001b[0m\u001b[0;37;40m.\u001b[0m\u001b[0;30;43m#\u001b[0m\u001b[0;37;40m.\u001b[0m\u001b[0;37;40m.\u001b[0m\u001b[0;30;43m#\u001b[0m\u001b[0;37;40m.\u001b[0m\n",
      "\u001b[0;30;43m#\u001b[0m\u001b[0;37;40m.\u001b[0m\u001b[0;30;43m#\u001b[0m\u001b[0;37;40m.\u001b[0m\u001b[0;37;40m.\u001b[0m\u001b[0;30;43m#\u001b[0m\u001b[0;37;40m.\u001b[0m\u001b[0;30;43m#\u001b[0m\u001b[0;37;40m.\u001b[0m\u001b[0;37;40m.\u001b[0m\u001b[0;30;43m#\u001b[0m\u001b[0;37;40m.\u001b[0m\u001b[0;37;40m.\u001b[0m\u001b[0;30;43m#\u001b[0m\u001b[0;37;40m.\u001b[0m\u001b[0;30;43m#\u001b[0m\u001b[0;37;40m.\u001b[0m\u001b[0;37;40m.\u001b[0m\u001b[0;37;40m.\u001b[0m\u001b[0;37;40m.\u001b[0m\u001b[0;30;43m#\u001b[0m\u001b[0;37;40m.\u001b[0m\u001b[0;37;40m.\u001b[0m\u001b[0;37;40m.\u001b[0m\u001b[0;37;40m.\u001b[0m\u001b[0;30;43m#\u001b[0m\u001b[0;37;40m.\u001b[0m\u001b[0;37;40m.\u001b[0m\u001b[0;30;43m#\u001b[0m\u001b[0;37;40m.\u001b[0m\u001b[0;30;43m#\u001b[0m\u001b[0;37;40m.\u001b[0m\u001b[0;37;40m.\u001b[0m\u001b[0;30;43m#\u001b[0m\u001b[0;37;40m.\u001b[0m\u001b[0;30;43m#\u001b[0m\u001b[0;37;40m.\u001b[0m\u001b[0;37;40m.\u001b[0m\u001b[0;30;43m#\u001b[0m\u001b[0;37;40m.\u001b[0m\n",
      "\u001b[0;30;43m#\u001b[0m\u001b[0;37;40m.\u001b[0m\u001b[0;37;40m.\u001b[0m\u001b[0;30;43m#\u001b[0m\u001b[0;37;40m.\u001b[0m\u001b[0;30;43m#\u001b[0m\u001b[0;37;40m.\u001b[0m\u001b[0;37;40m.\u001b[0m\u001b[0;30;43m#\u001b[0m\u001b[0;37;40m.\u001b[0m\u001b[0;30;43m#\u001b[0m\u001b[0;37;40m.\u001b[0m\u001b[0;37;40m.\u001b[0m\u001b[0;30;43m#\u001b[0m\u001b[0;37;40m.\u001b[0m\u001b[0;30;43m#\u001b[0m\u001b[0;37;40m.\u001b[0m\u001b[0;37;40m.\u001b[0m\u001b[0;37;40m.\u001b[0m\u001b[0;37;40m.\u001b[0m\u001b[0;30;43m#\u001b[0m\u001b[0;30;43m#\u001b[0m\u001b[0;30;43m#\u001b[0m\u001b[0;30;43m#\u001b[0m\u001b[0;37;40m.\u001b[0m\u001b[0;37;40m.\u001b[0m\u001b[0;30;43m#\u001b[0m\u001b[0;30;43m#\u001b[0m\u001b[0;30;43m#\u001b[0m\u001b[0;37;40m.\u001b[0m\u001b[0;37;40m.\u001b[0m\u001b[0;30;43m#\u001b[0m\u001b[0;30;43m#\u001b[0m\u001b[0;37;40m.\u001b[0m\u001b[0;37;40m.\u001b[0m\u001b[0;30;43m#\u001b[0m\u001b[0;30;43m#\u001b[0m\u001b[0;30;43m#\u001b[0m\u001b[0;37;40m.\u001b[0m\u001b[0;37;40m.\u001b[0m\n"
     ]
    }
   ],
   "source": [
    "np.max(dots,axis=0), np.min(dots,axis=0)\n",
    "\n",
    "paper = np.zeros(np.max(dots,axis=0)+1).astype(int)\n",
    "\n",
    "for d in dots:\n",
    "    x,y=d\n",
    "    paper[x,y] = 1\n",
    "\n",
    "\n",
    "for f in folds:\n",
    "    if f[0] == 'x':\n",
    "        paper = (np.flip(paper,0)[:f[1],...] + paper[:f[1],...])\n",
    "        paper = paper[:f[1],:]\n",
    "\n",
    "    if f[0] == 'y':\n",
    "        paper = (np.flip(paper,1)[...,:f[1]] + paper[...,:f[1]])\n",
    "        paper = paper[:,:f[1]]\n",
    "\n",
    "paper = np.where(paper>0,'\\x1b[0;30;43m#\\x1b[0m','\\x1b[0;37;40m.\\x1b[0m')\n",
    "for p in paper.T:\n",
    "    for k in p:\n",
    "        print(f\"{k}\",end='')\n",
    "    print('')\n"
   ]
  }
 ],
 "metadata": {
  "kernelspec": {
   "display_name": "Python 3 (ipykernel)",
   "language": "python",
   "name": "python3"
  },
  "language_info": {
   "codemirror_mode": {
    "name": "ipython",
    "version": 3
   },
   "file_extension": ".py",
   "mimetype": "text/x-python",
   "name": "python",
   "nbconvert_exporter": "python",
   "pygments_lexer": "ipython3",
   "version": "3.10.1"
  }
 },
 "nbformat": 4,
 "nbformat_minor": 5
}
