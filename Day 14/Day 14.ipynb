{
 "cells": [
  {
   "cell_type": "code",
   "execution_count": 1,
   "id": "d1b79003-8b90-4e73-b571-513e99630027",
   "metadata": {},
   "outputs": [],
   "source": [
    "import numpy as np\n",
    "second_bit = False\n",
    "codes = []\n",
    "start_bit = []\n",
    "with open('./input.txt','r') as file:\n",
    "    for line in file:\n",
    "        if second_bit:\n",
    "            codes.append(line.strip())\n",
    "        else:\n",
    "            if line.strip() == '':\n",
    "                second_bit = True\n",
    "                continue\n",
    "            start_bit = line.strip()\n",
    "temp = {}\n",
    "for c in codes:\n",
    "    k,v= c.split(' -> ')\n",
    "    temp[k]=v\n",
    "codes = temp"
   ]
  },
  {
   "cell_type": "code",
   "execution_count": 2,
   "id": "d8f24589-01a4-428c-95cd-cacef0259a69",
   "metadata": {},
   "outputs": [
    {
     "data": {
      "text/plain": [
       "2345"
      ]
     },
     "execution_count": 2,
     "metadata": {},
     "output_type": "execute_result"
    }
   ],
   "source": [
    "#brute force\n",
    "next_bit = list(start_bit)\n",
    "\n",
    "for _ in range(10):\n",
    "    new_bit = [next_bit[0],]\n",
    "    for idx in range(len(next_bit)):\n",
    "        if idx == 0:\n",
    "            continue\n",
    "        if next_bit[idx-1]+next_bit[idx] in codes.keys():\n",
    "            new_bit.append(codes[next_bit[idx-1]+next_bit[idx]])\n",
    "        new_bit.append(next_bit[idx])\n",
    "    next_bit = new_bit\n",
    "\n",
    "answer_array = np.array(next_bit)\n",
    "counter = {}\n",
    "for a in answer_array:\n",
    "    if a not in counter.keys():\n",
    "        counter[a]=0\n",
    "    counter[a] += 1\n",
    "   \n",
    "np.max([v for v in counter.values()]) - np.min([v for v in counter.values()])        "
   ]
  },
  {
   "cell_type": "code",
   "execution_count": 3,
   "id": "0b626d2b-94d7-47fc-a1cf-a5ab43042a82",
   "metadata": {},
   "outputs": [
    {
     "data": {
      "text/plain": [
       "2432786807053"
      ]
     },
     "execution_count": 3,
     "metadata": {},
     "output_type": "execute_result"
    }
   ],
   "source": [
    "#do not try and preserve the location - this will allow us to only look at the pairs\n",
    "\n",
    "next_bit = {}\n",
    "modified_codes = {}\n",
    "\n",
    "for k in codes.keys():\n",
    "    next_bit[k] = 0\n",
    "\n",
    "for idx in range(1,len(start_bit)):\n",
    "    next_bit[start_bit[idx-1:idx+1]] +=1\n",
    "next_bit\n",
    "\n",
    "for _ in range(40):\n",
    "    temp_bit = {}\n",
    "    for k,v in next_bit.items():\n",
    "        if v>0:\n",
    "            for i in range(2):\n",
    "                if i == 0:\n",
    "                    temp_key = k[i]+codes[k]\n",
    "                else:\n",
    "                    temp_key = codes[k]+k[i]\n",
    "                if temp_key not in temp_bit:\n",
    "                    temp_bit[temp_key] = 0\n",
    "                temp_bit[temp_key] += v\n",
    "    next_bit = temp_bit\n",
    "\n",
    "letters = {}\n",
    "for k,v in next_bit.items():\n",
    "    if k[0] not in letters.keys():\n",
    "        letters[k[0]] = 0\n",
    "    letters[k[0]] += v\n",
    "\n",
    "letters[start_bit[-1]] += 1 # have to add the last letter because it doesn't make a piar\n",
    "\n",
    "np.max([v for v in letters.values()]) - np.min([v for v in letters.values()])    "
   ]
  },
  {
   "cell_type": "code",
   "execution_count": null,
   "id": "52316589-6595-4616-81a9-cbbfc41955a7",
   "metadata": {},
   "outputs": [],
   "source": []
  }
 ],
 "metadata": {
  "kernelspec": {
   "display_name": "Python 3 (ipykernel)",
   "language": "python",
   "name": "python3"
  },
  "language_info": {
   "codemirror_mode": {
    "name": "ipython",
    "version": 3
   },
   "file_extension": ".py",
   "mimetype": "text/x-python",
   "name": "python",
   "nbconvert_exporter": "python",
   "pygments_lexer": "ipython3",
   "version": "3.10.1"
  }
 },
 "nbformat": 4,
 "nbformat_minor": 5
}
