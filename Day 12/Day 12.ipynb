{
 "cells": [
  {
   "cell_type": "code",
   "execution_count": 9,
   "id": "c02d0300",
   "metadata": {
    "scrolled": true
   },
   "outputs": [],
   "source": [
    "def parse(input_file):\n",
    "    nodes = {}\n",
    "    with open(input_file,'r') as file:\n",
    "        for line in file:\n",
    "            temp = line.strip().strip().split('-')\n",
    "            if temp[0] not in nodes.keys():\n",
    "                nodes[temp[0]]=[]\n",
    "            if temp[1] not in nodes.keys():\n",
    "                nodes[temp[1]]=[]\n",
    "            if temp[1] not in nodes[temp[0]]:\n",
    "                nodes[temp[0]].append(temp[1])\n",
    "            if temp[0] not in nodes[temp[1]]:\n",
    "                nodes[temp[1]].append(temp[0])\n",
    "    del nodes['end'] \n",
    "    return nodes\n",
    "\n",
    "# Depth first recursive search\n",
    "def go_deep(path,winning, already_single, q2):\n",
    "    next_options = nodes[path[-1]]\n",
    "    valid_option = []\n",
    "    for next_o in next_options:         \n",
    "        if next_o == 'start':\n",
    "            continue\n",
    "        elif next_o == 'end':\n",
    "            winning = winning + 1\n",
    "            continue\n",
    "        valid_option.append(next_o)\n",
    "    \n",
    "    for v in valid_option:\n",
    "        if v.lower() == v:\n",
    "            if already_single != 0 or not(q2):\n",
    "                if v in path:\n",
    "                    continue\n",
    "            else:\n",
    "                if v in path:\n",
    "                    already_single = len(path)       \n",
    "        path.append(v)\n",
    "        winning,path,already_single = go_deep(path,winning,already_single, q2)\n",
    "\n",
    "    if (already_single+1) == len(path) and q2:\n",
    "        already_single = 0    \n",
    "    return winning, path[:-1], already_single"
   ]
  },
  {
   "cell_type": "code",
   "execution_count": 12,
   "id": "05fb945d",
   "metadata": {},
   "outputs": [
    {
     "data": {
      "text/plain": [
       "3450"
      ]
     },
     "execution_count": 12,
     "metadata": {},
     "output_type": "execute_result"
    }
   ],
   "source": [
    "nodes = parse('./input.txt')\n",
    "path = ['start',]\n",
    "\n",
    "winning = 0\n",
    "already_single=0\n",
    "for o in options:\n",
    "    path.append(o)\n",
    "    winning,path,already_single =  go_deep(path,winning,already_single, False)\n",
    "winning"
   ]
  },
  {
   "cell_type": "code",
   "execution_count": 11,
   "id": "04dcaec8",
   "metadata": {},
   "outputs": [
    {
     "data": {
      "text/plain": [
       "96528"
      ]
     },
     "execution_count": 11,
     "metadata": {},
     "output_type": "execute_result"
    }
   ],
   "source": [
    "nodes = parse('./input.txt')\n",
    "path = ['start',]\n",
    "\n",
    "winning = 0\n",
    "already_single=0\n",
    "for o in options:\n",
    "    path.append(o)\n",
    "    winning,path,already_single =  go_deep(path,winning,already_single, True)\n",
    "winning"
   ]
  },
  {
   "cell_type": "code",
   "execution_count": null,
   "id": "3ae28bbd",
   "metadata": {},
   "outputs": [],
   "source": []
  }
 ],
 "metadata": {
  "kernelspec": {
   "display_name": "Python 3 (ipykernel)",
   "language": "python",
   "name": "python3"
  },
  "language_info": {
   "codemirror_mode": {
    "name": "ipython",
    "version": 3
   },
   "file_extension": ".py",
   "mimetype": "text/x-python",
   "name": "python",
   "nbconvert_exporter": "python",
   "pygments_lexer": "ipython3",
   "version": "3.9.7"
  }
 },
 "nbformat": 4,
 "nbformat_minor": 5
}
