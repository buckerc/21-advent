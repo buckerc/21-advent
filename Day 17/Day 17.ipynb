{
 "cells": [
  {
   "cell_type": "code",
   "execution_count": 81,
   "id": "f0b69eb9-ece1-487a-be33-bc4cf1de19f3",
   "metadata": {},
   "outputs": [
    {
     "name": "stdout",
     "output_type": "stream",
     "text": [
      "x_min 70\n",
      "x_max 125\n",
      "y_min -159\n",
      "y_max -121\n"
     ]
    }
   ],
   "source": [
    "import numpy as np\n",
    "with open('./input.txt','r') as file:\n",
    "    inputs = file.readline()\n",
    "    \n",
    "_, x, y = inputs.split('=')\n",
    "x = x[:-3]\n",
    "x_min, x_max = [int(i) for i in x.split('..')]\n",
    "y_min, y_max = [int(i) for i in y.split('..')]\n",
    "print(f\"x_min {x_min}\\nx_max {x_max}\\ny_min {y_min}\\ny_max {y_max}\")"
   ]
  },
  {
   "cell_type": "code",
   "execution_count": 86,
   "id": "d262269a-5202-4e48-b22d-3367697f8738",
   "metadata": {},
   "outputs": [
    {
     "data": {
      "text/plain": [
       "12561"
      ]
     },
     "execution_count": 86,
     "metadata": {},
     "output_type": "execute_result"
    }
   ],
   "source": [
    "highest = 0\n",
    "for y_init in range(np.abs(y_min)):\n",
    "    s = 0\n",
    "    y = y_init\n",
    "    h = 0\n",
    "    while s > y_max:    \n",
    "        s += y\n",
    "        y -= 1\n",
    "        if s > h:\n",
    "            h = s\n",
    "    if (s >= y_min) and (s <= y_max) and h > highest:\n",
    "        highest = h\n",
    "highest"
   ]
  },
  {
   "cell_type": "code",
   "execution_count": 94,
   "id": "ede377ee-eb1c-44d6-8eb4-833df47b210e",
   "metadata": {},
   "outputs": [
    {
     "data": {
      "text/plain": [
       "3785"
      ]
     },
     "execution_count": 94,
     "metadata": {},
     "output_type": "execute_result"
    }
   ],
   "source": [
    "solution = []\n",
    "for x_init in range(x_max*10):\n",
    "    for y_init in range(y_min*10,np.abs(y_min)*10):\n",
    "        ys = 0\n",
    "        xs = 0\n",
    "        y = y_init\n",
    "        x = x_init\n",
    "        while ys >= y_min and xs <= x_max:\n",
    "            ys += y\n",
    "            xs += x\n",
    "            x -= 1\n",
    "            if x < 0:\n",
    "                x = 0\n",
    "            y -= 1\n",
    "            if ys >= y_min and ys <= y_max and xs <= x_max and xs >= x_min:\n",
    "                if (x_init, y_init) not in solution:\n",
    "                    solution.append((x_init,y_init))\n",
    "len(solution)"
   ]
  }
 ],
 "metadata": {
  "kernelspec": {
   "display_name": "Python 3 (ipykernel)",
   "language": "python",
   "name": "python3"
  },
  "language_info": {
   "codemirror_mode": {
    "name": "ipython",
    "version": 3
   },
   "file_extension": ".py",
   "mimetype": "text/x-python",
   "name": "python",
   "nbconvert_exporter": "python",
   "pygments_lexer": "ipython3",
   "version": "3.10.1"
  }
 },
 "nbformat": 4,
 "nbformat_minor": 5
}
