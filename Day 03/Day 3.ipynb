{
 "cells": [
  {
   "cell_type": "code",
   "execution_count": 1,
   "id": "3b67cd32",
   "metadata": {},
   "outputs": [
    {
     "data": {
      "text/html": [
       "<style>.container { width:90% !important; }</style>"
      ],
      "text/plain": [
       "<IPython.core.display.HTML object>"
      ]
     },
     "metadata": {},
     "output_type": "display_data"
    }
   ],
   "source": [
    "from IPython.core.display import display, HTML\n",
    "display(HTML(\"<style>.container { width:90% !important; }</style>\"))"
   ]
  },
  {
   "cell_type": "code",
   "execution_count": 194,
   "id": "f7427a7e",
   "metadata": {},
   "outputs": [
    {
     "name": "stdout",
     "output_type": "stream",
     "text": [
      "1\n",
      "5\n",
      "21\n",
      "277\n",
      "1301\n",
      "3349\n"
     ]
    },
    {
     "data": {
      "text/plain": [
       "2498354"
      ]
     },
     "execution_count": 194,
     "metadata": {},
     "output_type": "execute_result"
    }
   ],
   "source": [
    "inputs = []\n",
    "with open('./input.txt','r') as file:\n",
    "    for line in file:\n",
    "        temp=[]\n",
    "        for i in line[:-1]:\n",
    "            if type(int(i))==int:\n",
    "                temp.append(int(i))\n",
    "\n",
    "        inputs.append(temp)\n",
    "        \n",
    "import numpy as np\n",
    "inputs = np.array(inputs)\n",
    "ins = inputs.T\n",
    "msb = []\n",
    "lsb = []\n",
    "for i in ins:\n",
    "    msb.append(np.sum(i)>500)\n",
    "    lsb.append(np.sum(i)<500)    \n",
    "    \n",
    "\n",
    "dec = 0\n",
    "sec = 0\n",
    "for idx,(m,l) in enumerate(zip(msb[::-1],lsb[::-1])):\n",
    "    if m:\n",
    "        dec = dec + 2**idx\n",
    "        print(dec)\n",
    "    if l:\n",
    "        sec = sec + 2** idx\n",
    "#print(dec,sec)\n",
    "\n",
    "dec*sec"
   ]
  },
  {
   "cell_type": "code",
   "execution_count": 226,
   "id": "212a6b20",
   "metadata": {},
   "outputs": [
    {
     "name": "stdout",
     "output_type": "stream",
     "text": [
      "oxygen - 3921, carbon - 836, answer - 3277956\n"
     ]
    }
   ],
   "source": [
    "import numpy as np\n",
    "\n",
    "inputs = []\n",
    "with open('./input.txt','r') as file:\n",
    "    for line in file:\n",
    "        temp=[]\n",
    "        for i in line[:-1]:\n",
    "            if type(int(i))==int:\n",
    "                temp.append(int(i))\n",
    "        inputs.append(temp)\n",
    "\n",
    "inputs = np.array(inputs)\n",
    "#for 02\n",
    "remaining = inputs\n",
    "for l in range(np.shape(inputs)[1]):\n",
    "    if (np.sum(remaining.T[l])>len(remaining)/2):\n",
    "        most_common = 1\n",
    "    elif (np.sum(remaining.T[l])<len(remaining)/2):\n",
    "        most_common = 0\n",
    "    elif (np.sum(remaining.T[l])==len(remaining)/2):\n",
    "        most_common = 1    \n",
    "    \n",
    "    remaining = remaining[(remaining[:,l] == most_common)]\n",
    "    \n",
    "    if len(remaining)==1:\n",
    "        oxygen = 0\n",
    "        remaining = remaining[0]        \n",
    "        for idx,a in enumerate(remaining[::-1]):\n",
    "            if a:\n",
    "                oxygen = oxygen + 2**idx\n",
    "        break\n",
    "\n",
    "remaining = inputs\n",
    "for l in range(np.shape(inputs)[1]):\n",
    "    if (np.sum(remaining.T[l])>len(remaining)/2):\n",
    "        most_common = 1\n",
    "    elif (np.sum(remaining.T[l])<len(remaining)/2):\n",
    "        most_common = 0\n",
    "    elif (np.sum(remaining.T[l])==len(remaining)/2):\n",
    "        most_common = 1    \n",
    "    \n",
    "    remaining = remaining[(remaining[:,l] != most_common)]\n",
    "    \n",
    "    if len(remaining)==1:\n",
    "        carbon = 0\n",
    "        remaining = remaining[0]        \n",
    "        for idx,a in enumerate(remaining[::-1]):\n",
    "            if a:\n",
    "                carbon = carbon + 2**idx\n",
    "        break\n",
    "\n",
    "print(f\"oxygen - {oxygen}, carbon - {carbon}, answer - {oxygen*carbon}\")\n"
   ]
  },
  {
   "cell_type": "code",
   "execution_count": 182,
   "id": "38338c99",
   "metadata": {},
   "outputs": [
    {
     "data": {
      "text/plain": [
       "230"
      ]
     },
     "execution_count": 182,
     "metadata": {},
     "output_type": "execute_result"
    }
   ],
   "source": [
    "file = [\n",
    "    '00100',\n",
    "'11110',\n",
    "'10110',\n",
    "'10111',\n",
    "'10101',\n",
    "'01111',\n",
    "'00111',\n",
    "'11100',\n",
    "'10000',\n",
    "'11001',\n",
    "'00010',\n",
    "'01010',\n",
    "]\n",
    "inputs = []\n",
    "for line in file:\n",
    "        temp=[]\n",
    "        for i in line:\n",
    "            if type(int(i))==int:\n",
    "                temp.append(int(i))\n",
    "        inputs.append(temp)\n",
    "        \n",
    "inputs = np.array(inputs)\n",
    "ins = inputs.T\n",
    "most_common = []\n",
    "\n",
    "for i in ins:\n",
    "    if (np.sum(i)>len(inputs)/2):\n",
    "        most_common.append(1)\n",
    "    elif (np.sum(i)<len(inputs)/2):\n",
    "        most_common.append(0)\n",
    "    elif (np.sum(i)==len(ins)/2):\n",
    "        print('bugger')\n",
    "        assert 3==2\n",
    "    \n",
    "#for 02\n",
    "\n",
    "remaining = inputs\n",
    "for l in range(np.shape(inputs)[1]):\n",
    "\n",
    "    counter = remaining[(remaining[:,l]==most_common[l])]\n",
    "    \n",
    "    if len(counter) == len(remaining)/2:\n",
    "        remaining = remaining[(remaining[:,l]==1)]\n",
    "    else:      \n",
    "        remaining = counter\n",
    "    if len(remaining)==1:\n",
    "        oxygen = 0\n",
    "        for idx,a in enumerate(remaining[0,::-1]):\n",
    "            if a:\n",
    "                oxygen = oxygen + 2**idx\n",
    "oxygen\n",
    "\n",
    "remaining = inputs\n",
    "for l in range(np.shape(inputs)[1]):\n",
    "    \n",
    "    counter = remaining[(remaining[:,l] != most_common[l])]\n",
    "    if len(counter) == len(remaining)/2:\n",
    "        remaining = remaining[(remaining[:,l]==0)]\n",
    "    else:      \n",
    "        remaining = counter\n",
    "    if len(remaining)==1:\n",
    "        carbon = 0\n",
    "        for idx,a in enumerate(remaining[0,::-1]):\n",
    "            if a:\n",
    "                carbon = carbon + 2**idx\n",
    "        break\n",
    "carbon * oxygen"
   ]
  },
  {
   "cell_type": "code",
   "execution_count": 211,
   "id": "a61c55f8",
   "metadata": {},
   "outputs": [
    {
     "data": {
      "text/plain": [
       "10270815"
      ]
     },
     "execution_count": 211,
     "metadata": {},
     "output_type": "execute_result"
    }
   ],
   "source": [
    "2070918\n",
    "10270815\n",
    "\n",
    "3277956"
   ]
  },
  {
   "cell_type": "code",
   "execution_count": null,
   "id": "357a81e4",
   "metadata": {},
   "outputs": [],
   "source": []
  },
  {
   "cell_type": "code",
   "execution_count": null,
   "id": "e226db46",
   "metadata": {},
   "outputs": [],
   "source": []
  }
 ],
 "metadata": {
  "kernelspec": {
   "display_name": "Python 3 (ipykernel)",
   "language": "python",
   "name": "python3"
  },
  "language_info": {
   "codemirror_mode": {
    "name": "ipython",
    "version": 3
   },
   "file_extension": ".py",
   "mimetype": "text/x-python",
   "name": "python",
   "nbconvert_exporter": "python",
   "pygments_lexer": "ipython3",
   "version": "3.9.7"
  }
 },
 "nbformat": 4,
 "nbformat_minor": 5
}
