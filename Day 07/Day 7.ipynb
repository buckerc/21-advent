{
 "cells": [
  {
   "cell_type": "code",
   "execution_count": 39,
   "id": "0d9b1b1b",
   "metadata": {},
   "outputs": [
    {
     "data": {
      "text/plain": [
       "348996"
      ]
     },
     "execution_count": 39,
     "metadata": {},
     "output_type": "execute_result"
    }
   ],
   "source": [
    "import numpy as np\n",
    "with open('./input.txt','r') as file:\n",
    "    inputs = file.readline().split(',')\n",
    "inputs = [int(i) for i in inputs]\n",
    "inputs = np.array(inputs)\n",
    "\n",
    "min_fuel = 1e30\n",
    "for aim_for in range(np.max(inputs)+1):\n",
    "    fuel_cost = np.sum(np.abs(inputs-aim_for))\n",
    "    if fuel_cost < min_fuel:\n",
    "        min_fuel = fuel_cost\n",
    "        \n",
    "min_fuel"
   ]
  },
  {
   "cell_type": "code",
   "execution_count": 38,
   "id": "da55c4c1",
   "metadata": {
    "scrolled": true
   },
   "outputs": [
    {
     "name": "stdout",
     "output_type": "stream",
     "text": [
      "98231647\n"
     ]
    }
   ],
   "source": [
    "import numpy as np\n",
    "with open('./input.txt','r') as file:\n",
    "    inputs = file.readline().split(',')\n",
    "inputs = [int(i) for i in inputs]\n",
    "inputs = np.array(inputs)\n",
    "\n",
    "cost_lookup = {}\n",
    "cost_lookup[0] = 0\n",
    "for i in range(1,np.max(inputs)+1):\n",
    "    cost_lookup[i] = cost_lookup[i-1]+i\n",
    "\n",
    "min_fuel = 1e30\n",
    "\n",
    "for aim_for in range(np.max(inputs)+1):\n",
    "    fuel_cost = 0\n",
    "    for i in inputs:        \n",
    "        fuel_cost = fuel_cost + cost_lookup[np.abs(i - aim_for)]\n",
    "        if fuel_cost > min_fuel:\n",
    "            break\n",
    "        \n",
    "    if fuel_cost < min_fuel:\n",
    "        min_fuel = fuel_cost\n",
    "        \n",
    "print(min_fuel)"
   ]
  },
  {
   "cell_type": "code",
   "execution_count": null,
   "id": "1111602a",
   "metadata": {},
   "outputs": [],
   "source": []
  },
  {
   "cell_type": "code",
   "execution_count": null,
   "id": "720e0963",
   "metadata": {},
   "outputs": [],
   "source": []
  }
 ],
 "metadata": {
  "kernelspec": {
   "display_name": "Python 3 (ipykernel)",
   "language": "python",
   "name": "python3"
  },
  "language_info": {
   "codemirror_mode": {
    "name": "ipython",
    "version": 3
   },
   "file_extension": ".py",
   "mimetype": "text/x-python",
   "name": "python",
   "nbconvert_exporter": "python",
   "pygments_lexer": "ipython3",
   "version": "3.9.7"
  }
 },
 "nbformat": 4,
 "nbformat_minor": 5
}
