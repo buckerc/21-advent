{
 "cells": [
  {
   "cell_type": "code",
   "execution_count": 1,
   "id": "dcffba63-dd54-49a4-a983-1dcb0adc9939",
   "metadata": {},
   "outputs": [
    {
     "data": {
      "text/plain": [
       "[['inp', 'w'],\n",
       " ['mul', 'x', 0],\n",
       " ['add', 'x', 'z'],\n",
       " ['mod', 'x', 26],\n",
       " ['div', 'z', 1],\n",
       " ['add', 'x', 14],\n",
       " ['eql', 'x', 'w'],\n",
       " ['eql', 'x', 0],\n",
       " ['mul', 'y', 0],\n",
       " ['add', 'y', 25],\n",
       " ['mul', 'y', 'x'],\n",
       " ['add', 'y', 1],\n",
       " ['mul', 'z', 'y'],\n",
       " ['mul', 'y', 0],\n",
       " ['add', 'y', 'w'],\n",
       " ['add', 'y', 12],\n",
       " ['mul', 'y', 'x'],\n",
       " ['add', 'z', 'y']]"
      ]
     },
     "execution_count": 1,
     "metadata": {},
     "output_type": "execute_result"
    }
   ],
   "source": [
    "inputs = []\n",
    "data_file = './input.txt'\n",
    "with open(data_file, 'r') as file:\n",
    "    for line in file:\n",
    "        inputs.append(line.strip().split(' '))\n",
    "\n",
    "for idx, i in enumerate(inputs):\n",
    "    # '-5' is not numeric to python, so just look at the last letter\n",
    "    if i[-1][-1].isnumeric(): \n",
    "        inputs[idx][-1] = int(i[-1])\n",
    "        \n",
    "\n",
    "\n",
    "ins = []\n",
    "for i in inputs:\n",
    "    if i[0]=='inp':\n",
    "        ins.append([i,])\n",
    "    else:\n",
    "        ins[-1].append(i)\n",
    "        \n",
    "inputs = ins\n",
    "inputs[0]"
   ]
  },
  {
   "cell_type": "code",
   "execution_count": null,
   "id": "0f9d8834-6f70-47b7-8a97-a1dad766e9b9",
   "metadata": {},
   "outputs": [],
   "source": []
  },
  {
   "cell_type": "code",
   "execution_count": null,
   "id": "a477954a-627c-49da-b86d-2aa6f41599f1",
   "metadata": {},
   "outputs": [],
   "source": []
  },
  {
   "cell_type": "code",
   "execution_count": null,
   "id": "1eb95831-e47b-4c9c-8389-53c2cb932c74",
   "metadata": {},
   "outputs": [],
   "source": []
  },
  {
   "cell_type": "code",
   "execution_count": 2,
   "id": "7ca4c610-627b-4413-a6cc-aba56a856140",
   "metadata": {},
   "outputs": [],
   "source": [
    "class arithmeticLogicUnit:\n",
    "    def __init__(self,inputs=None):\n",
    "        self.amount = ord('w') # ascii value for 'w', useful for converting things\n",
    "        \n",
    "        self.inputPointer = 0\n",
    "        self.outputs = [0,0,0,0]\n",
    "        if inputs:\n",
    "            self.setInputs(inputs)\n",
    "        else:\n",
    "            self.inputs = None\n",
    "    \n",
    "    def setPart(self,a,b):\n",
    "        number1 = ord(a) - self.amount\n",
    "        self.outputs[number1] = b\n",
    "    \n",
    "    def setInputs(self, inputs):\n",
    "        ins = [int(i) for i in str(inputs)]\n",
    "        if 0 in ins:\n",
    "            raise ValueError(\"Cannot have '0' as an inputs\")\n",
    "        elif len(ins) != 14:\n",
    "            raise ValueError(f\"Must have 14 digits, got {len(ins)} - {ins}\")\n",
    "        self.inputPointer = 0  \n",
    "        self.inputs = ins\n",
    "        self.outputs = [0,0,0,0]\n",
    "    \n",
    "    # inp a - Read an input value and write it to variable a.\n",
    "    def inp(self,a):\n",
    "        number1 = ord(a) - self.amount\n",
    "        \n",
    "        self.outputs[number1] = self.inputs[self.inputPointer]\n",
    "        self.inputPointer = self.inputPointer + 1\n",
    "        \n",
    "    # add a b - Add the value of a to the value of b, then store the result in variable a.\n",
    "    def add(self,a,b):\n",
    "        number1 = ord(a) - self.amount       \n",
    "        if type(b)==int:\n",
    "            self.outputs[number1] = self.outputs[number1] + b\n",
    "        else:\n",
    "            number2 = ord(b) - self.amount\n",
    "            self.outputs[number1] = self.outputs[number1] + self.outputs[number2]\n",
    "            \n",
    "    # mul a b - Multiply the value of a by the value of b, then store the result in variable a.\n",
    "    def mul(self,a,b):\n",
    "        number1 = ord(a) - self.amount       \n",
    "        if type(b)==int:\n",
    "            self.outputs[number1] = self.outputs[number1] * b\n",
    "        else:\n",
    "            number2 = ord(b) - self.amount\n",
    "            self.outputs[number1] = self.outputs[number1] * self.outputs[number2]        \n",
    "             \n",
    "    # div a b - Divide the value of a by the value of b, truncate the result to an integer, \n",
    "    # then store the result in variable a. (Here, \"truncate\" means to round the value toward zero.)\n",
    "    def div(self,a,b):\n",
    "        number1 = ord(a) - self.amount       \n",
    "        if type(b)==int:\n",
    "            if b == 0:\n",
    "                raise ValueError(f\"'b' must not equal 0, it is {b}\")\n",
    "            self.outputs[number1] = int(self.outputs[number1] / b)\n",
    "        else:\n",
    "            number2 = ord(b) - self.amount\n",
    "            if self.outputs[number2] <= 0:\n",
    "                raise ValueError(f\"'b' must not equal 0, it is {self.outputs[number2]} for {b}\")\n",
    "                \n",
    "            self.outputs[number1] = int(self.outputs[number1] / self.outputs[number2])\n",
    "            \n",
    "    # mod a b - Divide the value of a by the value of b, then store the remainder in \n",
    "    # variable a. (This is also called the modulo operation.)\n",
    "    def mod(self,a,b):\n",
    "        number1 = ord(a) - self.amount       \n",
    "        if self.outputs[number1] < 0:\n",
    "            raise ValueError(f\"'a' must be greater or equal to 0, not {self.outputs[number1]} for {a}\")\n",
    "            \n",
    "        if type(b)==int:\n",
    "            if b <= 0:\n",
    "                raise ValueError(f\"'b' must be greater than 0, not {b}\")            \n",
    "            self.outputs[number1] = self.outputs[number1] % b\n",
    "        else:\n",
    "            number2 = ord(b) - self.amount\n",
    "            if self.outputs[number2] <= 0:\n",
    "                raise ValueError(f\"'b' must be greater than 0, not {self.outputs[number2]} for {b}\")\n",
    "            self.outputs[number1] = self.outputs[number1] % self.outputs[number2]\n",
    "            \n",
    "    # eql a b - If the value of a and b are equal, then store the value 1 in variable \n",
    "    # a. Otherwise, store the value 0 in variable a.\n",
    "    def eql(self,a,b):\n",
    "        number1 = ord(a) - self.amount    \n",
    "        if type(b)==int:\n",
    "            self.outputs[number1] = (self.outputs[number1] == b) * 1\n",
    "        else:\n",
    "            number2 = ord(b) - self.amount\n",
    "            self.outputs[number1] = (self.outputs[number1] == self.outputs[number2]) * 1\n",
    "    \n",
    "    def ret(self,a):\n",
    "        number1 = ord(a) - self.amount\n",
    "        return self.outputs[number1]"
   ]
  },
  {
   "cell_type": "code",
   "execution_count": 3,
   "id": "915eeca4-8a79-476b-afff-f1d90ef85ebb",
   "metadata": {},
   "outputs": [],
   "source": [
    "ALU = arithmeticLogicUnit()"
   ]
  },
  {
   "cell_type": "code",
   "execution_count": 281,
   "id": "4ca55c50-2abe-4da4-9f0b-0522b508466c",
   "metadata": {},
   "outputs": [
    {
     "data": {
      "text/plain": [
       "14"
      ]
     },
     "execution_count": 281,
     "metadata": {},
     "output_type": "execute_result"
    }
   ],
   "source": [
    "len(inputs)"
   ]
  },
  {
   "cell_type": "code",
   "execution_count": null,
   "id": "dd8a0f9e-76e8-445d-adcf-9dccd3378d97",
   "metadata": {},
   "outputs": [],
   "source": []
  },
  {
   "cell_type": "code",
   "execution_count": 4,
   "id": "64d10227-ca11-4f3f-bccb-da2dc2dcdab4",
   "metadata": {},
   "outputs": [
    {
     "name": "stdout",
     "output_type": "stream",
     "text": [
      "9\n",
      "81\n"
     ]
    }
   ],
   "source": [
    "position = 0\n",
    "outputs = [{\n",
    "    'ins': 0,\n",
    "    'outs': [0,0,0,0]\n",
    "}]\n",
    "for position, ins in enumerate(inputs[:2]):\n",
    "    newOuts = []\n",
    "    for idx, outs in enumerate(outputs):\n",
    "\n",
    "        for num in range(1,10):\n",
    "            # pre load previous values\n",
    "            for b,a in enumerate(['w','x','y','z']):\n",
    "                ALU.setPart(a,outs['outs'][b])\n",
    "\n",
    "            #gets the position-ith bit starting from MSB\n",
    "            number = (outs['ins'] // 10**(13-position)) - ((outs['ins'] // 10**(14-position))*10) + num\n",
    "            if number > 9:\n",
    "                continue\n",
    "\n",
    "            for line in ins:\n",
    "                if len(line) == 3:\n",
    "                    cmd, a, b = line\n",
    "                else:\n",
    "                    cmd, a = line\n",
    "\n",
    "                if cmd == 'inp':\n",
    "                    ALU.setPart(a,number)\n",
    "                    #ALU.inp(a)\n",
    "                elif cmd == 'add':\n",
    "                    ALU.add(a,b)\n",
    "                elif cmd == 'mul':\n",
    "                    ALU.mul(a,b)\n",
    "                elif cmd == 'div':\n",
    "                    ALU.div(a,b)\n",
    "                elif cmd == 'mod':\n",
    "                    ALU.mod(a,b)\n",
    "                elif cmd == 'eql':\n",
    "                    ALU.eql(a,b)\n",
    "\n",
    "            canAppend = True\n",
    "            for no in newOuts:\n",
    "                if [ALU.ret('w'),ALU.ret('x'),ALU.ret('y'),ALU.ret('z')] == no['outs']:\n",
    "                    canAppend = False\n",
    "            \n",
    "            if canAppend:\n",
    "                newOuts.append({\n",
    "                    'ins' : outs['ins']+ number*10**(13-position),\n",
    "                    'outs' : [ALU.ret('w'),ALU.ret('x'),ALU.ret('y'),ALU.ret('z')]\n",
    "                })\n",
    "\n",
    "    outputs = newOuts\n",
    "    print(len(outputs))\n",
    "    \n",
    "        \n"
   ]
  },
  {
   "cell_type": "code",
   "execution_count": 9,
   "id": "912102cb-b815-449b-91db-1e72e1fc0af9",
   "metadata": {},
   "outputs": [
    {
     "data": {
      "text/plain": [
       "252"
      ]
     },
     "execution_count": 9,
     "metadata": {},
     "output_type": "execute_result"
    }
   ],
   "source": []
  },
  {
   "cell_type": "code",
   "execution_count": 293,
   "id": "2eb84582-238d-4f81-8585-ca8152e53ade",
   "metadata": {},
   "outputs": [
    {
     "data": {
      "text/plain": [
       "5"
      ]
     },
     "execution_count": 293,
     "metadata": {},
     "output_type": "execute_result"
    }
   ],
   "source": [
    "4433241415 % 26"
   ]
  },
  {
   "cell_type": "code",
   "execution_count": 5,
   "id": "f61bb4b3-8b40-4fd6-8e19-e80d51792ec5",
   "metadata": {},
   "outputs": [
    {
     "data": {
      "text/plain": [
       "[{'ins': 11000000000000, 'outs': [1, 1, 8, 346]},\n",
       " {'ins': 12000000000000, 'outs': [2, 1, 9, 347]},\n",
       " {'ins': 13000000000000, 'outs': [3, 1, 10, 348]},\n",
       " {'ins': 14000000000000, 'outs': [4, 1, 11, 349]},\n",
       " {'ins': 15000000000000, 'outs': [5, 1, 12, 350]},\n",
       " {'ins': 16000000000000, 'outs': [6, 1, 13, 351]},\n",
       " {'ins': 17000000000000, 'outs': [7, 1, 14, 352]},\n",
       " {'ins': 18000000000000, 'outs': [8, 1, 15, 353]},\n",
       " {'ins': 19000000000000, 'outs': [9, 1, 16, 354]},\n",
       " {'ins': 21000000000000, 'outs': [1, 1, 8, 372]},\n",
       " {'ins': 22000000000000, 'outs': [2, 1, 9, 373]},\n",
       " {'ins': 23000000000000, 'outs': [3, 1, 10, 374]},\n",
       " {'ins': 24000000000000, 'outs': [4, 1, 11, 375]},\n",
       " {'ins': 25000000000000, 'outs': [5, 1, 12, 376]},\n",
       " {'ins': 26000000000000, 'outs': [6, 1, 13, 377]},\n",
       " {'ins': 27000000000000, 'outs': [7, 1, 14, 378]},\n",
       " {'ins': 28000000000000, 'outs': [8, 1, 15, 379]},\n",
       " {'ins': 29000000000000, 'outs': [9, 1, 16, 380]},\n",
       " {'ins': 31000000000000, 'outs': [1, 1, 8, 398]},\n",
       " {'ins': 32000000000000, 'outs': [2, 1, 9, 399]},\n",
       " {'ins': 33000000000000, 'outs': [3, 1, 10, 400]},\n",
       " {'ins': 34000000000000, 'outs': [4, 1, 11, 401]},\n",
       " {'ins': 35000000000000, 'outs': [5, 1, 12, 402]},\n",
       " {'ins': 36000000000000, 'outs': [6, 1, 13, 403]},\n",
       " {'ins': 37000000000000, 'outs': [7, 1, 14, 404]},\n",
       " {'ins': 38000000000000, 'outs': [8, 1, 15, 405]},\n",
       " {'ins': 39000000000000, 'outs': [9, 1, 16, 406]},\n",
       " {'ins': 41000000000000, 'outs': [1, 1, 8, 424]},\n",
       " {'ins': 42000000000000, 'outs': [2, 1, 9, 425]},\n",
       " {'ins': 43000000000000, 'outs': [3, 1, 10, 426]},\n",
       " {'ins': 44000000000000, 'outs': [4, 1, 11, 427]},\n",
       " {'ins': 45000000000000, 'outs': [5, 1, 12, 428]},\n",
       " {'ins': 46000000000000, 'outs': [6, 1, 13, 429]},\n",
       " {'ins': 47000000000000, 'outs': [7, 1, 14, 430]},\n",
       " {'ins': 48000000000000, 'outs': [8, 1, 15, 431]},\n",
       " {'ins': 49000000000000, 'outs': [9, 1, 16, 432]},\n",
       " {'ins': 51000000000000, 'outs': [1, 1, 8, 450]},\n",
       " {'ins': 52000000000000, 'outs': [2, 1, 9, 451]},\n",
       " {'ins': 53000000000000, 'outs': [3, 1, 10, 452]},\n",
       " {'ins': 54000000000000, 'outs': [4, 1, 11, 453]},\n",
       " {'ins': 55000000000000, 'outs': [5, 1, 12, 454]},\n",
       " {'ins': 56000000000000, 'outs': [6, 1, 13, 455]},\n",
       " {'ins': 57000000000000, 'outs': [7, 1, 14, 456]},\n",
       " {'ins': 58000000000000, 'outs': [8, 1, 15, 457]},\n",
       " {'ins': 59000000000000, 'outs': [9, 1, 16, 458]},\n",
       " {'ins': 61000000000000, 'outs': [1, 1, 8, 476]},\n",
       " {'ins': 62000000000000, 'outs': [2, 1, 9, 477]},\n",
       " {'ins': 63000000000000, 'outs': [3, 1, 10, 478]},\n",
       " {'ins': 64000000000000, 'outs': [4, 1, 11, 479]},\n",
       " {'ins': 65000000000000, 'outs': [5, 1, 12, 480]},\n",
       " {'ins': 66000000000000, 'outs': [6, 1, 13, 481]},\n",
       " {'ins': 67000000000000, 'outs': [7, 1, 14, 482]},\n",
       " {'ins': 68000000000000, 'outs': [8, 1, 15, 483]},\n",
       " {'ins': 69000000000000, 'outs': [9, 1, 16, 484]},\n",
       " {'ins': 71000000000000, 'outs': [1, 1, 8, 502]},\n",
       " {'ins': 72000000000000, 'outs': [2, 1, 9, 503]},\n",
       " {'ins': 73000000000000, 'outs': [3, 1, 10, 504]},\n",
       " {'ins': 74000000000000, 'outs': [4, 1, 11, 505]},\n",
       " {'ins': 75000000000000, 'outs': [5, 1, 12, 506]},\n",
       " {'ins': 76000000000000, 'outs': [6, 1, 13, 507]},\n",
       " {'ins': 77000000000000, 'outs': [7, 1, 14, 508]},\n",
       " {'ins': 78000000000000, 'outs': [8, 1, 15, 509]},\n",
       " {'ins': 79000000000000, 'outs': [9, 1, 16, 510]},\n",
       " {'ins': 81000000000000, 'outs': [1, 1, 8, 528]},\n",
       " {'ins': 82000000000000, 'outs': [2, 1, 9, 529]},\n",
       " {'ins': 83000000000000, 'outs': [3, 1, 10, 530]},\n",
       " {'ins': 84000000000000, 'outs': [4, 1, 11, 531]},\n",
       " {'ins': 85000000000000, 'outs': [5, 1, 12, 532]},\n",
       " {'ins': 86000000000000, 'outs': [6, 1, 13, 533]},\n",
       " {'ins': 87000000000000, 'outs': [7, 1, 14, 534]},\n",
       " {'ins': 88000000000000, 'outs': [8, 1, 15, 535]},\n",
       " {'ins': 89000000000000, 'outs': [9, 1, 16, 536]},\n",
       " {'ins': 91000000000000, 'outs': [1, 1, 8, 554]},\n",
       " {'ins': 92000000000000, 'outs': [2, 1, 9, 555]},\n",
       " {'ins': 93000000000000, 'outs': [3, 1, 10, 556]},\n",
       " {'ins': 94000000000000, 'outs': [4, 1, 11, 557]},\n",
       " {'ins': 95000000000000, 'outs': [5, 1, 12, 558]},\n",
       " {'ins': 96000000000000, 'outs': [6, 1, 13, 559]},\n",
       " {'ins': 97000000000000, 'outs': [7, 1, 14, 560]},\n",
       " {'ins': 98000000000000, 'outs': [8, 1, 15, 561]},\n",
       " {'ins': 99000000000000, 'outs': [9, 1, 16, 562]}]"
      ]
     },
     "execution_count": 5,
     "metadata": {},
     "output_type": "execute_result"
    }
   ],
   "source": [
    "newOuts\n",
    "\n",
    "#w is number under consideration\n",
    "#x is 1\n"
   ]
  },
  {
   "cell_type": "code",
   "execution_count": null,
   "id": "c127aeae-8bac-4f8d-a0f4-e0c4adb30e0c",
   "metadata": {},
   "outputs": [],
   "source": []
  },
  {
   "cell_type": "code",
   "execution_count": null,
   "id": "fe31c8f9-a22b-41a2-8727-3a0f23943ec5",
   "metadata": {},
   "outputs": [],
   "source": [
    "for number in range(99999970000000,11111111111111,-1):\n",
    "    if number % 10000000 == 0:\n",
    "        print(f\"Doing {number}\")\n",
    "    \n",
    "    try:    \n",
    "        ALU.setInputs(number)\n",
    "\n",
    "        for idx,line in enumerate(inputs):\n",
    "            if len(line) == 3:\n",
    "                cmd, a, b = line\n",
    "            else:\n",
    "                cmd, a = line\n",
    "\n",
    "            if cmd == 'inp':\n",
    "                ALU.inp(a)\n",
    "            elif cmd == 'add':\n",
    "                ALU.add(a,b)\n",
    "            elif cmd == 'mul':\n",
    "                ALU.mul(a,b)\n",
    "            elif cmd == 'div':\n",
    "                ALU.div(a,b)\n",
    "            elif cmd == 'mod':\n",
    "                ALU.mod(a,b)\n",
    "            elif cmd == 'eql':\n",
    "                ALU.eql(a,b)\n",
    "            else:\n",
    "                assert 3==2, f\"Wrong command.  Got {line}\"                 \n",
    "    except:\n",
    "        None\n",
    "    else:\n",
    "        if ALU.ret('z') == 0:\n",
    "            print(f\"Winning {number}\")\n",
    "            break"
   ]
  },
  {
   "cell_type": "code",
   "execution_count": null,
   "id": "c5987993-fd44-4162-b60b-c0444557dc6b",
   "metadata": {},
   "outputs": [],
   "source": [
    "number"
   ]
  },
  {
   "cell_type": "code",
   "execution_count": null,
   "id": "bae7c3a1-94ed-462f-8306-8711ace41d25",
   "metadata": {},
   "outputs": [],
   "source": []
  },
  {
   "cell_type": "code",
   "execution_count": null,
   "id": "48cbd146-f492-4194-acf6-4362de5c0606",
   "metadata": {},
   "outputs": [],
   "source": []
  },
  {
   "cell_type": "code",
   "execution_count": null,
   "id": "c128a6dc-a286-483b-8b73-fb18218349ec",
   "metadata": {},
   "outputs": [],
   "source": []
  }
 ],
 "metadata": {
  "kernelspec": {
   "display_name": "Python 3 (ipykernel)",
   "language": "python",
   "name": "python3"
  },
  "language_info": {
   "codemirror_mode": {
    "name": "ipython",
    "version": 3
   },
   "file_extension": ".py",
   "mimetype": "text/x-python",
   "name": "python",
   "nbconvert_exporter": "python",
   "pygments_lexer": "ipython3",
   "version": "3.10.2"
  }
 },
 "nbformat": 4,
 "nbformat_minor": 5
}
