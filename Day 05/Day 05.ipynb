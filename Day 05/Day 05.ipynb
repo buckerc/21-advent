{
 "cells": [
  {
   "cell_type": "code",
   "execution_count": 1,
   "id": "95485bc2",
   "metadata": {},
   "outputs": [],
   "source": [
    "import numpy as np"
   ]
  },
  {
   "cell_type": "code",
   "execution_count": 2,
   "id": "2fc7409c",
   "metadata": {},
   "outputs": [
    {
     "data": {
      "text/plain": [
       "6856"
      ]
     },
     "execution_count": 2,
     "metadata": {},
     "output_type": "execute_result"
    }
   ],
   "source": [
    "inputs = []\n",
    "with open('./input.txt', 'r') as file:\n",
    "    for line in file:\n",
    "        tline = line.split(' -> ')\n",
    "        x1,y1 = tline[0].split(',')\n",
    "        x2,y2 = tline[1].split(',')\n",
    "        inputs.append((int(x1),int(y1),int(x2),int(y2)))\n",
    "inputs = np.array(inputs)\n",
    "\n",
    "max_x = np.max([inputs[:,0], inputs[:,2]])\n",
    "max_y = np.max([inputs[:,1], inputs[:,3]])\n",
    "\n",
    "grid = np.zeros((max_x+1,max_y+1))\n",
    "for idx,i in enumerate(inputs):\n",
    "    x1,y1,x2,y2 = i\n",
    "    if x1==x2:\n",
    "        grid[x1, min([y1,y2]):max([y1,y2])+1] += 1\n",
    "    if y1==y2:\n",
    "        grid[min([x1,x2]):max([x1,x2])+1, y1] += 1\n",
    "\n",
    "ans = np.argwhere(grid>1)\n",
    "len(ans)    "
   ]
  },
  {
   "cell_type": "code",
   "execution_count": 3,
   "id": "0fa4b8bb",
   "metadata": {
    "scrolled": true
   },
   "outputs": [
    {
     "name": "stdout",
     "output_type": "stream",
     "text": [
      "Running ...................................................\n"
     ]
    },
    {
     "data": {
      "text/plain": [
       "20666"
      ]
     },
     "execution_count": 3,
     "metadata": {},
     "output_type": "execute_result"
    }
   ],
   "source": [
    "inputs = []\n",
    "with open('./input.txt', 'r') as file:\n",
    "    for line in file:\n",
    "        tline = line.split(' -> ')\n",
    "        x1,y1 = tline[0].split(',')\n",
    "        x2,y2 = tline[1].split(',')\n",
    "        inputs.append((int(x1),int(y1),int(x2),int(y2)))\n",
    "inputs = np.array(inputs)\n",
    "\n",
    "max_x = np.max([inputs[:,0], inputs[:,2]])\n",
    "max_y = np.max([inputs[:,1], inputs[:,3]])\n",
    "\n",
    "\n",
    "grid = np.zeros((max_x+1,max_y+1))\n",
    "print('Running ', end='')\n",
    "for idx,i in enumerate(inputs):\n",
    "    if idx % 10 == 0:\n",
    "        print('.',end='')\n",
    "    x1,y1,x2,y2 = i\n",
    "    if x1==x2:\n",
    "        grid[x1, min([y1,y2]):max([y1,y2])+1] += 1\n",
    "    elif y1==y2:\n",
    "        grid[min([x1,x2]):max([x1,x2])+1, y1] += 1 \n",
    "    else:\n",
    "        m = (y1-y2) / (x1 - x2)\n",
    "        c = y1 - m*x1\n",
    "        for y in range(min([y1,y2]),max([y1,y2])+1):\n",
    "            for x in range(min([x1,x2]),max([x1,x2])+1):\n",
    "                if y-m*x-c == 0:\n",
    "                    grid[x,y] += 1\n",
    "print('.')    \n",
    "ans = np.argwhere(grid>1)\n",
    "len(ans)    "
   ]
  },
  {
   "cell_type": "code",
   "execution_count": null,
   "id": "d121a5d3",
   "metadata": {},
   "outputs": [],
   "source": [
    "  "
   ]
  },
  {
   "cell_type": "code",
   "execution_count": null,
   "id": "f200f26a",
   "metadata": {},
   "outputs": [],
   "source": []
  }
 ],
 "metadata": {
  "kernelspec": {
   "display_name": "Python 3 (ipykernel)",
   "language": "python",
   "name": "python3"
  },
  "language_info": {
   "codemirror_mode": {
    "name": "ipython",
    "version": 3
   },
   "file_extension": ".py",
   "mimetype": "text/x-python",
   "name": "python",
   "nbconvert_exporter": "python",
   "pygments_lexer": "ipython3",
   "version": "3.9.7"
  }
 },
 "nbformat": 4,
 "nbformat_minor": 5
}
